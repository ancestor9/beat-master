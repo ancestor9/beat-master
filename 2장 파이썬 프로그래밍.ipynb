{
 "cells": [
  {
   "cell_type": "markdown",
   "metadata": {},
   "source": [
    "# 2장 파이썬 프로그래밍"
   ]
  },
  {
   "cell_type": "markdown",
   "metadata": {},
   "source": [
    "## 2.1 연산과 자료형태"
   ]
  },
  {
   "cell_type": "code",
   "execution_count": 1,
   "metadata": {},
   "outputs": [
    {
     "name": "stdout",
     "output_type": "stream",
     "text": [
      "9\n",
      "<class 'int'>\n",
      "140727864932384\n",
      "9.0\n",
      "<class 'float'>\n",
      "2897592296144\n"
     ]
    }
   ],
   "source": [
    "x = 9\n",
    "print(x)\n",
    "print(type(x))\n",
    "print(id(x))\n",
    "x = 9.0\n",
    "print(x); print(type(x)); print(id(x)); # ‘;’ 는 여러 명령어를 한 줄에 기록"
   ]
  },
  {
   "cell_type": "code",
   "execution_count": 2,
   "metadata": {},
   "outputs": [
    {
     "name": "stdout",
     "output_type": "stream",
     "text": [
      "17.0\n",
      "11.0\n",
      "42.0\n",
      "4.666666666666667\n",
      "2.0\n",
      "4.0\n",
      "196.0\n"
     ]
    }
   ],
   "source": [
    "x = x + 5\n",
    "print(x+3); print(x-3)\n",
    "print(x*3); print(x/3)\n",
    "print(x%3); print(x//3)\n",
    "print(x**2)"
   ]
  },
  {
   "cell_type": "code",
   "execution_count": 3,
   "metadata": {},
   "outputs": [
    {
     "name": "stdout",
     "output_type": "stream",
     "text": [
      "14.0 11\n",
      "11 14.0\n",
      "14.0 11\n"
     ]
    }
   ],
   "source": [
    "y = 10; y += 1\n",
    "print(x,y)\n",
    "temp = x\n",
    "x = y\n",
    "y = temp\n",
    "print(x,y)\n",
    "x, y = y, x\n",
    "print(x,y)"
   ]
  },
  {
   "cell_type": "code",
   "execution_count": 4,
   "metadata": {},
   "outputs": [
    {
     "name": "stdout",
     "output_type": "stream",
     "text": [
      "True\n",
      "False\n",
      "False\n",
      "True\n",
      "False\n",
      "True\n",
      "False\n",
      "True\n"
     ]
    }
   ],
   "source": [
    "print(x > y); print(x < y)\n",
    "print(x <= y); print(x >= y)\n",
    "print(x == y); print(x != y)\n",
    "print(x is y); print(x is not y)"
   ]
  },
  {
   "cell_type": "code",
   "execution_count": 5,
   "metadata": {},
   "outputs": [],
   "source": [
    "from IPython.core.interactiveshell import InteractiveShell\n",
    "InteractiveShell.ast_node_interactivity = 'all'"
   ]
  },
  {
   "cell_type": "code",
   "execution_count": 6,
   "metadata": {},
   "outputs": [
    {
     "data": {
      "text/plain": [
       "True"
      ]
     },
     "execution_count": 6,
     "metadata": {},
     "output_type": "execute_result"
    },
    {
     "data": {
      "text/plain": [
       "bool"
      ]
     },
     "execution_count": 6,
     "metadata": {},
     "output_type": "execute_result"
    }
   ],
   "source": [
    "x = True\n",
    "x\n",
    "type(x)"
   ]
  },
  {
   "cell_type": "code",
   "execution_count": 7,
   "metadata": {},
   "outputs": [
    {
     "name": "stdout",
     "output_type": "stream",
     "text": [
      "False\n",
      "True\n",
      "False\n",
      "True\n"
     ]
    }
   ],
   "source": [
    "print(True & False)\n",
    "print(True | False)\n",
    "print(True and False)\n",
    "print(True or False)"
   ]
  },
  {
   "cell_type": "code",
   "execution_count": 8,
   "metadata": {},
   "outputs": [
    {
     "data": {
      "text/plain": [
       "2"
      ]
     },
     "execution_count": 8,
     "metadata": {},
     "output_type": "execute_result"
    },
    {
     "data": {
      "text/plain": [
       "10"
      ]
     },
     "execution_count": 8,
     "metadata": {},
     "output_type": "execute_result"
    },
    {
     "data": {
      "text/plain": [
       "2"
      ]
     },
     "execution_count": 8,
     "metadata": {},
     "output_type": "execute_result"
    },
    {
     "data": {
      "text/plain": [
       "1"
      ]
     },
     "execution_count": 8,
     "metadata": {},
     "output_type": "execute_result"
    },
    {
     "data": {
      "text/plain": [
       "0"
      ]
     },
     "execution_count": 8,
     "metadata": {},
     "output_type": "execute_result"
    }
   ],
   "source": [
    "True + 1\n",
    "True*10\n",
    "True + True\n",
    "False + 1\n",
    "False*10"
   ]
  },
  {
   "cell_type": "code",
   "execution_count": 9,
   "metadata": {},
   "outputs": [
    {
     "data": {
      "text/plain": [
       "'파이썬 프로그래밍 언어는 쉽고 간결합니다.'"
      ]
     },
     "execution_count": 9,
     "metadata": {},
     "output_type": "execute_result"
    },
    {
     "data": {
      "text/plain": [
       "str"
      ]
     },
     "execution_count": 9,
     "metadata": {},
     "output_type": "execute_result"
    }
   ],
   "source": [
    "x = '파이썬 프로그래밍 언어는 쉽고 간결합니다.'\n",
    "x\n",
    "type(x)"
   ]
  },
  {
   "cell_type": "code",
   "execution_count": 10,
   "metadata": {},
   "outputs": [
    {
     "data": {
      "text/plain": [
       "'파이선 프로그래밍 언어는 쉽고 간결합니다.'"
      ]
     },
     "execution_count": 10,
     "metadata": {},
     "output_type": "execute_result"
    },
    {
     "data": {
      "text/plain": [
       "'파송송 프로그래밍 언어는 쉽고 간결합니다.'"
      ]
     },
     "execution_count": 10,
     "metadata": {},
     "output_type": "execute_result"
    },
    {
     "data": {
      "text/plain": [
       "True"
      ]
     },
     "execution_count": 10,
     "metadata": {},
     "output_type": "execute_result"
    },
    {
     "data": {
      "text/plain": [
       "'파이썬 프로그래밍 언어는 쉽고 간결합니다.파이썬 프로그래밍 언어는 쉽고 간결합니다.'"
      ]
     },
     "execution_count": 10,
     "metadata": {},
     "output_type": "execute_result"
    },
    {
     "data": {
      "text/plain": [
       "23"
      ]
     },
     "execution_count": 10,
     "metadata": {},
     "output_type": "execute_result"
    },
    {
     "data": {
      "text/plain": [
       "2"
      ]
     },
     "execution_count": 10,
     "metadata": {},
     "output_type": "execute_result"
    },
    {
     "data": {
      "text/plain": [
       "'파'"
      ]
     },
     "execution_count": 10,
     "metadata": {},
     "output_type": "execute_result"
    },
    {
     "data": {
      "text/plain": [
       "'.'"
      ]
     },
     "execution_count": 10,
     "metadata": {},
     "output_type": "execute_result"
    },
    {
     "data": {
      "text/plain": [
       "'다'"
      ]
     },
     "execution_count": 10,
     "metadata": {},
     "output_type": "execute_result"
    }
   ],
   "source": [
    "x.replace('썬', '선')\n",
    "x.replace('파이썬', '파송송')\n",
    "'언어' in x\n",
    "x + x\n",
    "len(x)\n",
    "x.find('썬')\n",
    "x[0]\n",
    "x[-1]\n",
    "x[-2]"
   ]
  },
  {
   "cell_type": "code",
   "execution_count": 11,
   "metadata": {},
   "outputs": [
    {
     "data": {
      "text/plain": [
       "(int, float, str)"
      ]
     },
     "execution_count": 11,
     "metadata": {},
     "output_type": "execute_result"
    },
    {
     "name": "stdout",
     "output_type": "stream",
     "text": [
      "정수: 9, 문자 : 500000.000, 실수 : 파이썬\n",
      "수자이지만 문자로 출력 150000.0 실수로 출력 150000.00\n"
     ]
    }
   ],
   "source": [
    "type(9), type(1.5e5), type('파이썬')\n",
    "print('정수: {0:d}, 문자 : {1:.3f}, 실수 : {2:s}'.format(9, 5e5, '파이썬'))\n",
    "print('수자이지만 문자로 출력 {0!s} 실수로 출력 {1:.2f}'.format(1.5e5, 1.5e5))"
   ]
  },
  {
   "cell_type": "code",
   "execution_count": 12,
   "metadata": {},
   "outputs": [
    {
     "data": {
      "text/plain": [
       "'Hi, I am 파이썬, I like to use 영어. I am 남성. Nice to meet you.'"
      ]
     },
     "execution_count": 12,
     "metadata": {},
     "output_type": "execute_result"
    }
   ],
   "source": [
    "name ='파이썬'; language = '영어'; sex ='남성'\n",
    "f'Hi, I am {name}, I like to use {language}. I am {sex}. Nice to meet you.'"
   ]
  },
  {
   "cell_type": "code",
   "execution_count": 13,
   "metadata": {},
   "outputs": [
    {
     "data": {
      "text/plain": [
       "'Hi, I am 파이썬, '"
      ]
     },
     "execution_count": 13,
     "metadata": {},
     "output_type": "execute_result"
    },
    {
     "data": {
      "text/plain": [
       "'I like to use 영어.'"
      ]
     },
     "execution_count": 13,
     "metadata": {},
     "output_type": "execute_result"
    }
   ],
   "source": [
    "'Hi, I am %s, '%name\n",
    "'I like to use %s.'%language"
   ]
  },
  {
   "cell_type": "code",
   "execution_count": 14,
   "metadata": {},
   "outputs": [
    {
     "name": "stdout",
     "output_type": "stream",
     "text": [
      "9와 10.24 그리고 더하면 19.240000000000002\n"
     ]
    }
   ],
   "source": [
    "x = 9; y = 10.24\n",
    "print(f'{x}와 {y} 그리고 더하면 {x+y}')"
   ]
  },
  {
   "cell_type": "code",
   "execution_count": 15,
   "metadata": {},
   "outputs": [
    {
     "data": {
      "text/plain": [
       "[9, 9.0, '파이썬', True]"
      ]
     },
     "execution_count": 15,
     "metadata": {},
     "output_type": "execute_result"
    },
    {
     "data": {
      "text/plain": [
       "list"
      ]
     },
     "execution_count": 15,
     "metadata": {},
     "output_type": "execute_result"
    }
   ],
   "source": [
    "x = [] \n",
    "x = [9, 9.0, '파이썬', True] \n",
    "x\n",
    "type(x)"
   ]
  },
  {
   "cell_type": "code",
   "execution_count": 16,
   "metadata": {},
   "outputs": [
    {
     "data": {
      "text/plain": [
       "4"
      ]
     },
     "execution_count": 16,
     "metadata": {},
     "output_type": "execute_result"
    },
    {
     "data": {
      "text/plain": [
       "'파이썬'"
      ]
     },
     "execution_count": 16,
     "metadata": {},
     "output_type": "execute_result"
    },
    {
     "data": {
      "text/plain": [
       "[9.0, '파이썬']"
      ]
     },
     "execution_count": 16,
     "metadata": {},
     "output_type": "execute_result"
    },
    {
     "data": {
      "text/plain": [
       "False"
      ]
     },
     "execution_count": 16,
     "metadata": {},
     "output_type": "execute_result"
    }
   ],
   "source": [
    "len(x)\n",
    "x[2]\n",
    "x[1:3]\n",
    "8 in x"
   ]
  },
  {
   "cell_type": "code",
   "execution_count": 17,
   "metadata": {},
   "outputs": [
    {
     "data": {
      "text/plain": [
       "[9, 9.0, '파이썬', True, '대한민국']"
      ]
     },
     "execution_count": 17,
     "metadata": {},
     "output_type": "execute_result"
    },
    {
     "data": {
      "text/plain": [
       "[1, 3, 5, 7, 9, 11]"
      ]
     },
     "execution_count": 17,
     "metadata": {},
     "output_type": "execute_result"
    },
    {
     "data": {
      "text/plain": [
       "[11, 9, 7, 5, 3, 1]"
      ]
     },
     "execution_count": 17,
     "metadata": {},
     "output_type": "execute_result"
    }
   ],
   "source": [
    "x.append('대한민국')\n",
    "x\n",
    "x = [9,5,3,7,1,11]\n",
    "sorted(x)\n",
    "sorted(x, reverse=True)"
   ]
  },
  {
   "cell_type": "code",
   "execution_count": 18,
   "metadata": {},
   "outputs": [
    {
     "data": {
      "text/plain": [
       "{'a': 1, 'b': 3, 'c': 5, 'd': 7}"
      ]
     },
     "execution_count": 18,
     "metadata": {},
     "output_type": "execute_result"
    },
    {
     "data": {
      "text/plain": [
       "dict"
      ]
     },
     "execution_count": 18,
     "metadata": {},
     "output_type": "execute_result"
    }
   ],
   "source": [
    "x = {}  # x = dict()\n",
    "x = {'a':1, 'b':3, 'c':5, 'd':7}\n",
    "x\n",
    "type(x)"
   ]
  },
  {
   "cell_type": "code",
   "execution_count": 19,
   "metadata": {},
   "outputs": [
    {
     "data": {
      "text/plain": [
       "4"
      ]
     },
     "execution_count": 19,
     "metadata": {},
     "output_type": "execute_result"
    },
    {
     "data": {
      "text/plain": [
       "1"
      ]
     },
     "execution_count": 19,
     "metadata": {},
     "output_type": "execute_result"
    },
    {
     "data": {
      "text/plain": [
       "{'a': 1, 'b': 3, 'c': 5, 'd': 7, 'e': 9}"
      ]
     },
     "execution_count": 19,
     "metadata": {},
     "output_type": "execute_result"
    },
    {
     "data": {
      "text/plain": [
       "dict_items([('a', 1), ('b', 3), ('c', 5), ('d', 7), ('e', 9)])"
      ]
     },
     "execution_count": 19,
     "metadata": {},
     "output_type": "execute_result"
    },
    {
     "data": {
      "text/plain": [
       "dict_keys(['a', 'b', 'c', 'd', 'e'])"
      ]
     },
     "execution_count": 19,
     "metadata": {},
     "output_type": "execute_result"
    },
    {
     "data": {
      "text/plain": [
       "dict_values([1, 3, 5, 7, 9])"
      ]
     },
     "execution_count": 19,
     "metadata": {},
     "output_type": "execute_result"
    }
   ],
   "source": [
    "len(x)\n",
    "x['a']\n",
    "x['e']= 9\n",
    "x\n",
    "x.items(); x.keys()\n",
    "x.values()"
   ]
  },
  {
   "cell_type": "code",
   "execution_count": 20,
   "metadata": {},
   "outputs": [
    {
     "data": {
      "text/plain": [
       "{1: 'a', 3: 'b', 5: 'c', 7: 'd', 9: 'e'}"
      ]
     },
     "execution_count": 20,
     "metadata": {},
     "output_type": "execute_result"
    },
    {
     "data": {
      "text/plain": [
       "5"
      ]
     },
     "execution_count": 20,
     "metadata": {},
     "output_type": "execute_result"
    }
   ],
   "source": [
    "dict([(value, key) for (key, value) in x.items()])\n",
    "x.get('c')"
   ]
  },
  {
   "cell_type": "code",
   "execution_count": 21,
   "metadata": {},
   "outputs": [
    {
     "data": {
      "text/plain": [
       "[('e', 9), ('d', 7), ('c', 5), ('b', 3), ('a', 1)]"
      ]
     },
     "execution_count": 21,
     "metadata": {},
     "output_type": "execute_result"
    }
   ],
   "source": [
    "sorted(x.items(), key=lambda kv: kv[0], reverse=True)"
   ]
  },
  {
   "cell_type": "code",
   "execution_count": 22,
   "metadata": {},
   "outputs": [
    {
     "name": "stdout",
     "output_type": "stream",
     "text": [
      "파이썬은 무료 공개 소스다.\n"
     ]
    }
   ],
   "source": [
    "is_opensource = True\n",
    "if is_opensource  :\n",
    "    print('파이썬은 무료 공개 소스다.')\n",
    "else:\n",
    "    print('파이썬은 무료 공개 소스가 아니다.')"
   ]
  },
  {
   "cell_type": "code",
   "execution_count": 23,
   "metadata": {},
   "outputs": [
    {
     "name": "stdout",
     "output_type": "stream",
     "text": [
      "The Object A is empty.\n",
      "B에 파이썬이 있다.\n",
      "A에 파이썬이 없다.\n"
     ]
    }
   ],
   "source": [
    "A = {}; B = {'파이썬':10, '자바':5}\n",
    "if A :\n",
    "    print(\"The Object A is not empty\")\n",
    "else :\n",
    "    print(\"The Object A is empty.\")\n",
    "    \n",
    "if '파이썬' in B:\n",
    "    print('B에 파이썬이 있다.')\n",
    "if '파이썬' not in A:\n",
    "    print('A에 파이썬이 없다.')"
   ]
  },
  {
   "cell_type": "code",
   "execution_count": 193,
   "metadata": {},
   "outputs": [
    {
     "name": "stdout",
     "output_type": "stream",
     "text": [
      "0\n",
      "1\n",
      "2\n"
     ]
    }
   ],
   "source": [
    "for i in range(0,3):\n",
    "    print(i)"
   ]
  },
  {
   "cell_type": "code",
   "execution_count": 122,
   "metadata": {},
   "outputs": [
    {
     "data": {
      "text/plain": [
       "[2, 3, 4, 5]"
      ]
     },
     "execution_count": 122,
     "metadata": {},
     "output_type": "execute_result"
    },
    {
     "data": {
      "text/plain": [
       "[2, 3, 4, 5]"
      ]
     },
     "execution_count": 122,
     "metadata": {},
     "output_type": "execute_result"
    }
   ],
   "source": [
    "mylist =[]               \n",
    "for x in [1,2,3,4,5] :  \n",
    "    if x >=2:           \n",
    "        mylist.append(x) \n",
    "mylist\n",
    "\n",
    "[x for x in [1,2,3,4,5] if x >=2] "
   ]
  },
  {
   "cell_type": "code",
   "execution_count": 123,
   "metadata": {},
   "outputs": [
    {
     "data": {
      "text/plain": [
       "[0, 1, 2, 3, 4, 5, 6, 7, 8, 9]"
      ]
     },
     "execution_count": 123,
     "metadata": {},
     "output_type": "execute_result"
    },
    {
     "data": {
      "text/plain": [
       "[10, 9, 8, 7, 6, 5, 4, 3, 2, 1]"
      ]
     },
     "execution_count": 123,
     "metadata": {},
     "output_type": "execute_result"
    },
    {
     "data": {
      "text/plain": [
       "55"
      ]
     },
     "execution_count": 123,
     "metadata": {},
     "output_type": "execute_result"
    }
   ],
   "source": [
    "[i for i in range(0,10)]\n",
    "[i for i in reversed([i for i in range(1,11)])]\n",
    "sum([i for i in reversed([i for i in range(1,11)])])"
   ]
  },
  {
   "cell_type": "markdown",
   "metadata": {},
   "source": [
    "## 2.2 Numpy와 Pandas"
   ]
  },
  {
   "cell_type": "code",
   "execution_count": 124,
   "metadata": {},
   "outputs": [],
   "source": [
    "import numpy as np"
   ]
  },
  {
   "cell_type": "code",
   "execution_count": 125,
   "metadata": {},
   "outputs": [
    {
     "data": {
      "text/plain": [
       "[0, 1, 2, 3, 4, 5, 6, 7, 8, 9]"
      ]
     },
     "execution_count": 125,
     "metadata": {},
     "output_type": "execute_result"
    },
    {
     "data": {
      "text/plain": [
       "array([0, 1, 2, 3, 4, 5, 6, 7, 8, 9])"
      ]
     },
     "execution_count": 125,
     "metadata": {},
     "output_type": "execute_result"
    },
    {
     "data": {
      "text/plain": [
       "array([0, 1, 2, 3, 4, 5, 6, 7, 8, 9])"
      ]
     },
     "execution_count": 125,
     "metadata": {},
     "output_type": "execute_result"
    },
    {
     "data": {
      "text/plain": [
       "array([0, 2, 4, 6, 8])"
      ]
     },
     "execution_count": 125,
     "metadata": {},
     "output_type": "execute_result"
    },
    {
     "data": {
      "text/plain": [
       "[0, 2, 4, 6, 8]"
      ]
     },
     "execution_count": 125,
     "metadata": {},
     "output_type": "execute_result"
    }
   ],
   "source": [
    "list(range(10))\n",
    "np.array(range(0,10))\n",
    "np.arange(10)\n",
    "np.arange(0,10,2)\n",
    "list(np.arange(0,10,2))"
   ]
  },
  {
   "cell_type": "code",
   "execution_count": 126,
   "metadata": {},
   "outputs": [
    {
     "data": {
      "text/plain": [
       "array([0, 1, 2, 3, 4, 5, 6, 7, 8, 9])"
      ]
     },
     "execution_count": 126,
     "metadata": {},
     "output_type": "execute_result"
    },
    {
     "data": {
      "text/plain": [
       "array([ 0,  2,  4,  6,  8, 10, 12, 14, 16, 18])"
      ]
     },
     "execution_count": 126,
     "metadata": {},
     "output_type": "execute_result"
    },
    {
     "data": {
      "text/plain": [
       "array([ 0,  1,  2,  3,  4,  5,  6,  7,  8,  9,  0,  2,  4,  6,  8, 10, 12,\n",
       "       14, 16, 18])"
      ]
     },
     "execution_count": 126,
     "metadata": {},
     "output_type": "execute_result"
    },
    {
     "data": {
      "text/plain": [
       "array([[ 0,  1,  2,  3,  4,  5,  6,  7,  8,  9],\n",
       "       [ 0,  2,  4,  6,  8, 10, 12, 14, 16, 18]])"
      ]
     },
     "execution_count": 126,
     "metadata": {},
     "output_type": "execute_result"
    }
   ],
   "source": [
    "np.arange(10)\n",
    "np.arange(0, 20, 2)\n",
    "np.hstack([np.arange(10), np.arange(0, 20, 2)])\n",
    "np.vstack([np.arange(10), np.arange(0, 20, 2)])"
   ]
  },
  {
   "cell_type": "code",
   "execution_count": 127,
   "metadata": {},
   "outputs": [
    {
     "name": "stdout",
     "output_type": "stream",
     "text": [
      "Wall time: 4.99 ms\n",
      "Wall time: 0 ns\n"
     ]
    }
   ],
   "source": [
    "%time s = sum([i for i in range(1,99999)])\n",
    "\n",
    "%time s = np.arange(99999).sum()"
   ]
  },
  {
   "cell_type": "code",
   "execution_count": 128,
   "metadata": {},
   "outputs": [
    {
     "data": {
      "text/plain": [
       "array([52, 71, 72, 80, 72, 53, 71, 46, 68, 59, 55, 19])"
      ]
     },
     "execution_count": 128,
     "metadata": {},
     "output_type": "execute_result"
    },
    {
     "data": {
      "text/plain": [
       "80"
      ]
     },
     "execution_count": 128,
     "metadata": {},
     "output_type": "execute_result"
    },
    {
     "data": {
      "text/plain": [
       "19"
      ]
     },
     "execution_count": 128,
     "metadata": {},
     "output_type": "execute_result"
    },
    {
     "data": {
      "text/plain": [
       "718"
      ]
     },
     "execution_count": 128,
     "metadata": {},
     "output_type": "execute_result"
    },
    {
     "data": {
      "text/plain": [
       "59.833333333333336"
      ]
     },
     "execution_count": 128,
     "metadata": {},
     "output_type": "execute_result"
    },
    {
     "data": {
      "text/plain": [
       "15.836841716565697"
      ]
     },
     "execution_count": 128,
     "metadata": {},
     "output_type": "execute_result"
    }
   ],
   "source": [
    "np.random.seed(1357)\n",
    "m = np.random.randint(1,100,12)\n",
    "m\n",
    "\n",
    "m.max()\n",
    "m.min()\n",
    "m.sum()\n",
    "m.mean()\n",
    "m.std()"
   ]
  },
  {
   "cell_type": "code",
   "execution_count": 129,
   "metadata": {},
   "outputs": [
    {
     "data": {
      "text/plain": [
       "11"
      ]
     },
     "execution_count": 129,
     "metadata": {},
     "output_type": "execute_result"
    },
    {
     "data": {
      "text/plain": [
       "3"
      ]
     },
     "execution_count": 129,
     "metadata": {},
     "output_type": "execute_result"
    },
    {
     "data": {
      "text/plain": [
       "array([11,  7,  0,  5, 10,  9,  8,  1,  6,  2,  4,  3], dtype=int64)"
      ]
     },
     "execution_count": 129,
     "metadata": {},
     "output_type": "execute_result"
    },
    {
     "data": {
      "text/plain": [
       "array([ 3,  2,  4,  1,  6,  8,  9, 10,  5,  0,  7, 11], dtype=int64)"
      ]
     },
     "execution_count": 129,
     "metadata": {},
     "output_type": "execute_result"
    }
   ],
   "source": [
    "m.argmin() \n",
    "m.argmax()\n",
    "m.argsort()\n",
    "np.argsort(-m)"
   ]
  },
  {
   "cell_type": "code",
   "execution_count": 130,
   "metadata": {},
   "outputs": [
    {
     "data": {
      "text/plain": [
       "(12,)"
      ]
     },
     "execution_count": 130,
     "metadata": {},
     "output_type": "execute_result"
    },
    {
     "data": {
      "text/plain": [
       "(12, 1)"
      ]
     },
     "execution_count": 130,
     "metadata": {},
     "output_type": "execute_result"
    }
   ],
   "source": [
    "m.shape\n",
    "m.reshape(-1,1).shape"
   ]
  },
  {
   "cell_type": "code",
   "execution_count": 131,
   "metadata": {},
   "outputs": [
    {
     "data": {
      "text/plain": [
       "array([52, 71, 72, 80, 72, 53, 71, 46, 68, 59, 55, 19])"
      ]
     },
     "execution_count": 131,
     "metadata": {},
     "output_type": "execute_result"
    },
    {
     "data": {
      "text/plain": [
       "(12,)"
      ]
     },
     "execution_count": 131,
     "metadata": {},
     "output_type": "execute_result"
    },
    {
     "data": {
      "text/plain": [
       "array([[52, 71, 72, 80],\n",
       "       [72, 53, 71, 46],\n",
       "       [68, 59, 55, 19]])"
      ]
     },
     "execution_count": 131,
     "metadata": {},
     "output_type": "execute_result"
    }
   ],
   "source": [
    "m\n",
    "m.shape\n",
    "mr = m.reshape(3,4)\n",
    "mr"
   ]
  },
  {
   "cell_type": "code",
   "execution_count": 132,
   "metadata": {},
   "outputs": [
    {
     "data": {
      "text/plain": [
       "19"
      ]
     },
     "execution_count": 132,
     "metadata": {},
     "output_type": "execute_result"
    },
    {
     "data": {
      "text/plain": [
       "array([[52, 71, 72, 80],\n",
       "       [72, 53, 71, 46]])"
      ]
     },
     "execution_count": 132,
     "metadata": {},
     "output_type": "execute_result"
    },
    {
     "data": {
      "text/plain": [
       "array([[71, 72],\n",
       "       [53, 71],\n",
       "       [59, 55]])"
      ]
     },
     "execution_count": 132,
     "metadata": {},
     "output_type": "execute_result"
    },
    {
     "data": {
      "text/plain": [
       "array([[52, 71, 72],\n",
       "       [72, 53, 71],\n",
       "       [68, 59, 55]])"
      ]
     },
     "execution_count": 132,
     "metadata": {},
     "output_type": "execute_result"
    },
    {
     "data": {
      "text/plain": [
       "array([[72, 80],\n",
       "       [71, 46]])"
      ]
     },
     "execution_count": 132,
     "metadata": {},
     "output_type": "execute_result"
    }
   ],
   "source": [
    "mr[2][3]\n",
    "mr[0:2] \n",
    "mr[:, [1,2]]\n",
    "mr[:, 0:3]\n",
    "mr[:2, 2:]"
   ]
  },
  {
   "cell_type": "code",
   "execution_count": 133,
   "metadata": {},
   "outputs": [
    {
     "data": {
      "text/html": [
       "<div>\n",
       "<style scoped>\n",
       "    .dataframe tbody tr th:only-of-type {\n",
       "        vertical-align: middle;\n",
       "    }\n",
       "\n",
       "    .dataframe tbody tr th {\n",
       "        vertical-align: top;\n",
       "    }\n",
       "\n",
       "    .dataframe thead th {\n",
       "        text-align: right;\n",
       "    }\n",
       "</style>\n",
       "<table border=\"1\" class=\"dataframe\">\n",
       "  <thead>\n",
       "    <tr style=\"text-align: right;\">\n",
       "      <th></th>\n",
       "      <th>0</th>\n",
       "      <th>1</th>\n",
       "      <th>2</th>\n",
       "      <th>3</th>\n",
       "    </tr>\n",
       "  </thead>\n",
       "  <tbody>\n",
       "    <tr>\n",
       "      <th>0</th>\n",
       "      <td>52</td>\n",
       "      <td>71</td>\n",
       "      <td>72</td>\n",
       "      <td>80</td>\n",
       "    </tr>\n",
       "    <tr>\n",
       "      <th>1</th>\n",
       "      <td>72</td>\n",
       "      <td>53</td>\n",
       "      <td>71</td>\n",
       "      <td>46</td>\n",
       "    </tr>\n",
       "    <tr>\n",
       "      <th>2</th>\n",
       "      <td>68</td>\n",
       "      <td>59</td>\n",
       "      <td>55</td>\n",
       "      <td>19</td>\n",
       "    </tr>\n",
       "  </tbody>\n",
       "</table>\n",
       "</div>"
      ],
      "text/plain": [
       "    0   1   2   3\n",
       "0  52  71  72  80\n",
       "1  72  53  71  46\n",
       "2  68  59  55  19"
      ]
     },
     "execution_count": 133,
     "metadata": {},
     "output_type": "execute_result"
    }
   ],
   "source": [
    "import pandas as pd\n",
    "data = m.reshape((3,4))\n",
    "pd.DataFrame(data)"
   ]
  },
  {
   "cell_type": "code",
   "execution_count": 134,
   "metadata": {},
   "outputs": [
    {
     "data": {
      "text/html": [
       "<div>\n",
       "<style scoped>\n",
       "    .dataframe tbody tr th:only-of-type {\n",
       "        vertical-align: middle;\n",
       "    }\n",
       "\n",
       "    .dataframe tbody tr th {\n",
       "        vertical-align: top;\n",
       "    }\n",
       "\n",
       "    .dataframe thead th {\n",
       "        text-align: right;\n",
       "    }\n",
       "</style>\n",
       "<table border=\"1\" class=\"dataframe\">\n",
       "  <thead>\n",
       "    <tr style=\"text-align: right;\">\n",
       "      <th></th>\n",
       "      <th>A</th>\n",
       "      <th>B</th>\n",
       "      <th>C</th>\n",
       "      <th>D</th>\n",
       "    </tr>\n",
       "  </thead>\n",
       "  <tbody>\n",
       "    <tr>\n",
       "      <th>1</th>\n",
       "      <td>52</td>\n",
       "      <td>71</td>\n",
       "      <td>72</td>\n",
       "      <td>80</td>\n",
       "    </tr>\n",
       "    <tr>\n",
       "      <th>2</th>\n",
       "      <td>72</td>\n",
       "      <td>53</td>\n",
       "      <td>71</td>\n",
       "      <td>46</td>\n",
       "    </tr>\n",
       "    <tr>\n",
       "      <th>3</th>\n",
       "      <td>68</td>\n",
       "      <td>59</td>\n",
       "      <td>55</td>\n",
       "      <td>19</td>\n",
       "    </tr>\n",
       "  </tbody>\n",
       "</table>\n",
       "</div>"
      ],
      "text/plain": [
       "    A   B   C   D\n",
       "1  52  71  72  80\n",
       "2  72  53  71  46\n",
       "3  68  59  55  19"
      ]
     },
     "execution_count": 134,
     "metadata": {},
     "output_type": "execute_result"
    }
   ],
   "source": [
    "index = range(1,4)\n",
    "columns = ['A','B','C','D']\n",
    "df = pd.DataFrame(data, index = index, columns = columns)\n",
    "df"
   ]
  },
  {
   "cell_type": "code",
   "execution_count": 135,
   "metadata": {},
   "outputs": [
    {
     "data": {
      "text/plain": [
       "A    72\n",
       "B    53\n",
       "C    71\n",
       "D    46\n",
       "Name: 2, dtype: int32"
      ]
     },
     "execution_count": 135,
     "metadata": {},
     "output_type": "execute_result"
    },
    {
     "data": {
      "text/plain": [
       "A    72\n",
       "B    53\n",
       "C    71\n",
       "D    46\n",
       "Name: 2, dtype: int32"
      ]
     },
     "execution_count": 135,
     "metadata": {},
     "output_type": "execute_result"
    },
    {
     "data": {
      "text/plain": [
       "53"
      ]
     },
     "execution_count": 135,
     "metadata": {},
     "output_type": "execute_result"
    },
    {
     "data": {
      "text/plain": [
       "53"
      ]
     },
     "execution_count": 135,
     "metadata": {},
     "output_type": "execute_result"
    }
   ],
   "source": [
    "df.loc[2]\n",
    "df.iloc[1]\n",
    "df.loc[2, 'B']\n",
    "df.iloc[1, 1]"
   ]
  },
  {
   "cell_type": "code",
   "execution_count": 136,
   "metadata": {},
   "outputs": [
    {
     "data": {
      "text/plain": [
       "1    52\n",
       "2    72\n",
       "3    68\n",
       "Name: A, dtype: int32"
      ]
     },
     "execution_count": 136,
     "metadata": {},
     "output_type": "execute_result"
    },
    {
     "data": {
      "text/plain": [
       "pandas.core.series.Series"
      ]
     },
     "execution_count": 136,
     "metadata": {},
     "output_type": "execute_result"
    },
    {
     "data": {
      "text/html": [
       "<div>\n",
       "<style scoped>\n",
       "    .dataframe tbody tr th:only-of-type {\n",
       "        vertical-align: middle;\n",
       "    }\n",
       "\n",
       "    .dataframe tbody tr th {\n",
       "        vertical-align: top;\n",
       "    }\n",
       "\n",
       "    .dataframe thead th {\n",
       "        text-align: right;\n",
       "    }\n",
       "</style>\n",
       "<table border=\"1\" class=\"dataframe\">\n",
       "  <thead>\n",
       "    <tr style=\"text-align: right;\">\n",
       "      <th></th>\n",
       "      <th>A</th>\n",
       "      <th>B</th>\n",
       "    </tr>\n",
       "  </thead>\n",
       "  <tbody>\n",
       "    <tr>\n",
       "      <th>1</th>\n",
       "      <td>52</td>\n",
       "      <td>71</td>\n",
       "    </tr>\n",
       "    <tr>\n",
       "      <th>2</th>\n",
       "      <td>72</td>\n",
       "      <td>53</td>\n",
       "    </tr>\n",
       "    <tr>\n",
       "      <th>3</th>\n",
       "      <td>68</td>\n",
       "      <td>59</td>\n",
       "    </tr>\n",
       "  </tbody>\n",
       "</table>\n",
       "</div>"
      ],
      "text/plain": [
       "    A   B\n",
       "1  52  71\n",
       "2  72  53\n",
       "3  68  59"
      ]
     },
     "execution_count": 136,
     "metadata": {},
     "output_type": "execute_result"
    },
    {
     "data": {
      "text/plain": [
       "pandas.core.frame.DataFrame"
      ]
     },
     "execution_count": 136,
     "metadata": {},
     "output_type": "execute_result"
    },
    {
     "data": {
      "text/plain": [
       "A    72\n",
       "B    53\n",
       "Name: 2, dtype: int32"
      ]
     },
     "execution_count": 136,
     "metadata": {},
     "output_type": "execute_result"
    }
   ],
   "source": [
    "df['A']\n",
    "type(df['A'])\n",
    "df[['A','B']]\n",
    "type(df[['A','B']])\n",
    "df[['A','B']].loc[2]"
   ]
  },
  {
   "cell_type": "code",
   "execution_count": 137,
   "metadata": {},
   "outputs": [
    {
     "data": {
      "text/html": [
       "<div>\n",
       "<style scoped>\n",
       "    .dataframe tbody tr th:only-of-type {\n",
       "        vertical-align: middle;\n",
       "    }\n",
       "\n",
       "    .dataframe tbody tr th {\n",
       "        vertical-align: top;\n",
       "    }\n",
       "\n",
       "    .dataframe thead th {\n",
       "        text-align: right;\n",
       "    }\n",
       "</style>\n",
       "<table border=\"1\" class=\"dataframe\">\n",
       "  <thead>\n",
       "    <tr style=\"text-align: right;\">\n",
       "      <th></th>\n",
       "      <th>A</th>\n",
       "      <th>B</th>\n",
       "      <th>C</th>\n",
       "      <th>D</th>\n",
       "    </tr>\n",
       "  </thead>\n",
       "  <tbody>\n",
       "    <tr>\n",
       "      <th>2</th>\n",
       "      <td>72</td>\n",
       "      <td>53</td>\n",
       "      <td>71</td>\n",
       "      <td>46</td>\n",
       "    </tr>\n",
       "    <tr>\n",
       "      <th>3</th>\n",
       "      <td>68</td>\n",
       "      <td>59</td>\n",
       "      <td>55</td>\n",
       "      <td>19</td>\n",
       "    </tr>\n",
       "  </tbody>\n",
       "</table>\n",
       "</div>"
      ],
      "text/plain": [
       "    A   B   C   D\n",
       "2  72  53  71  46\n",
       "3  68  59  55  19"
      ]
     },
     "execution_count": 137,
     "metadata": {},
     "output_type": "execute_result"
    },
    {
     "data": {
      "text/html": [
       "<div>\n",
       "<style scoped>\n",
       "    .dataframe tbody tr th:only-of-type {\n",
       "        vertical-align: middle;\n",
       "    }\n",
       "\n",
       "    .dataframe tbody tr th {\n",
       "        vertical-align: top;\n",
       "    }\n",
       "\n",
       "    .dataframe thead th {\n",
       "        text-align: right;\n",
       "    }\n",
       "</style>\n",
       "<table border=\"1\" class=\"dataframe\">\n",
       "  <thead>\n",
       "    <tr style=\"text-align: right;\">\n",
       "      <th></th>\n",
       "      <th>A</th>\n",
       "      <th>B</th>\n",
       "      <th>C</th>\n",
       "      <th>D</th>\n",
       "    </tr>\n",
       "  </thead>\n",
       "  <tbody>\n",
       "    <tr>\n",
       "      <th>3</th>\n",
       "      <td>68</td>\n",
       "      <td>59</td>\n",
       "      <td>55</td>\n",
       "      <td>19</td>\n",
       "    </tr>\n",
       "  </tbody>\n",
       "</table>\n",
       "</div>"
      ],
      "text/plain": [
       "    A   B   C   D\n",
       "3  68  59  55  19"
      ]
     },
     "execution_count": 137,
     "metadata": {},
     "output_type": "execute_result"
    }
   ],
   "source": [
    "df[1:]\n",
    "df[-1:]"
   ]
  },
  {
   "cell_type": "code",
   "execution_count": 138,
   "metadata": {},
   "outputs": [
    {
     "data": {
      "text/plain": [
       "1    52\n",
       "2    72\n",
       "3    68\n",
       "Name: A, dtype: int32"
      ]
     },
     "execution_count": 138,
     "metadata": {},
     "output_type": "execute_result"
    },
    {
     "data": {
      "text/plain": [
       "1    52\n",
       "2    72\n",
       "3    68\n",
       "Name: A, dtype: int32"
      ]
     },
     "execution_count": 138,
     "metadata": {},
     "output_type": "execute_result"
    }
   ],
   "source": [
    "df['A']\n",
    "df.A"
   ]
  },
  {
   "cell_type": "code",
   "execution_count": 139,
   "metadata": {},
   "outputs": [
    {
     "data": {
      "text/html": [
       "<div>\n",
       "<style scoped>\n",
       "    .dataframe tbody tr th:only-of-type {\n",
       "        vertical-align: middle;\n",
       "    }\n",
       "\n",
       "    .dataframe tbody tr th {\n",
       "        vertical-align: top;\n",
       "    }\n",
       "\n",
       "    .dataframe thead th {\n",
       "        text-align: right;\n",
       "    }\n",
       "</style>\n",
       "<table border=\"1\" class=\"dataframe\">\n",
       "  <thead>\n",
       "    <tr style=\"text-align: right;\">\n",
       "      <th></th>\n",
       "      <th>A</th>\n",
       "      <th>B</th>\n",
       "      <th>C</th>\n",
       "      <th>D</th>\n",
       "    </tr>\n",
       "  </thead>\n",
       "  <tbody>\n",
       "    <tr>\n",
       "      <th>1</th>\n",
       "      <td>False</td>\n",
       "      <td>True</td>\n",
       "      <td>True</td>\n",
       "      <td>True</td>\n",
       "    </tr>\n",
       "    <tr>\n",
       "      <th>2</th>\n",
       "      <td>True</td>\n",
       "      <td>False</td>\n",
       "      <td>True</td>\n",
       "      <td>False</td>\n",
       "    </tr>\n",
       "    <tr>\n",
       "      <th>3</th>\n",
       "      <td>True</td>\n",
       "      <td>False</td>\n",
       "      <td>False</td>\n",
       "      <td>False</td>\n",
       "    </tr>\n",
       "  </tbody>\n",
       "</table>\n",
       "</div>"
      ],
      "text/plain": [
       "       A      B      C      D\n",
       "1  False   True   True   True\n",
       "2   True  False   True  False\n",
       "3   True  False  False  False"
      ]
     },
     "execution_count": 139,
     "metadata": {},
     "output_type": "execute_result"
    },
    {
     "data": {
      "text/html": [
       "<div>\n",
       "<style scoped>\n",
       "    .dataframe tbody tr th:only-of-type {\n",
       "        vertical-align: middle;\n",
       "    }\n",
       "\n",
       "    .dataframe tbody tr th {\n",
       "        vertical-align: top;\n",
       "    }\n",
       "\n",
       "    .dataframe thead th {\n",
       "        text-align: right;\n",
       "    }\n",
       "</style>\n",
       "<table border=\"1\" class=\"dataframe\">\n",
       "  <thead>\n",
       "    <tr style=\"text-align: right;\">\n",
       "      <th></th>\n",
       "      <th>A</th>\n",
       "      <th>B</th>\n",
       "      <th>C</th>\n",
       "      <th>D</th>\n",
       "    </tr>\n",
       "  </thead>\n",
       "  <tbody>\n",
       "    <tr>\n",
       "      <th>1</th>\n",
       "      <td>NaN</td>\n",
       "      <td>71.0</td>\n",
       "      <td>72.0</td>\n",
       "      <td>80.0</td>\n",
       "    </tr>\n",
       "    <tr>\n",
       "      <th>2</th>\n",
       "      <td>72.0</td>\n",
       "      <td>NaN</td>\n",
       "      <td>71.0</td>\n",
       "      <td>NaN</td>\n",
       "    </tr>\n",
       "    <tr>\n",
       "      <th>3</th>\n",
       "      <td>68.0</td>\n",
       "      <td>NaN</td>\n",
       "      <td>NaN</td>\n",
       "      <td>NaN</td>\n",
       "    </tr>\n",
       "  </tbody>\n",
       "</table>\n",
       "</div>"
      ],
      "text/plain": [
       "      A     B     C     D\n",
       "1   NaN  71.0  72.0  80.0\n",
       "2  72.0   NaN  71.0   NaN\n",
       "3  68.0   NaN   NaN   NaN"
      ]
     },
     "execution_count": 139,
     "metadata": {},
     "output_type": "execute_result"
    },
    {
     "data": {
      "text/plain": [
       "array([[0, 1, 1, 1],\n",
       "       [1, 0, 1, 0],\n",
       "       [1, 0, 0, 0]])"
      ]
     },
     "execution_count": 139,
     "metadata": {},
     "output_type": "execute_result"
    },
    {
     "data": {
      "text/html": [
       "<div>\n",
       "<style scoped>\n",
       "    .dataframe tbody tr th:only-of-type {\n",
       "        vertical-align: middle;\n",
       "    }\n",
       "\n",
       "    .dataframe tbody tr th {\n",
       "        vertical-align: top;\n",
       "    }\n",
       "\n",
       "    .dataframe thead th {\n",
       "        text-align: right;\n",
       "    }\n",
       "</style>\n",
       "<table border=\"1\" class=\"dataframe\">\n",
       "  <thead>\n",
       "    <tr style=\"text-align: right;\">\n",
       "      <th></th>\n",
       "      <th>A</th>\n",
       "      <th>B</th>\n",
       "      <th>C</th>\n",
       "      <th>D</th>\n",
       "    </tr>\n",
       "  </thead>\n",
       "  <tbody>\n",
       "    <tr>\n",
       "      <th>1</th>\n",
       "      <td>0</td>\n",
       "      <td>1</td>\n",
       "      <td>1</td>\n",
       "      <td>1</td>\n",
       "    </tr>\n",
       "    <tr>\n",
       "      <th>2</th>\n",
       "      <td>1</td>\n",
       "      <td>0</td>\n",
       "      <td>1</td>\n",
       "      <td>0</td>\n",
       "    </tr>\n",
       "    <tr>\n",
       "      <th>3</th>\n",
       "      <td>1</td>\n",
       "      <td>0</td>\n",
       "      <td>0</td>\n",
       "      <td>0</td>\n",
       "    </tr>\n",
       "  </tbody>\n",
       "</table>\n",
       "</div>"
      ],
      "text/plain": [
       "   A  B  C  D\n",
       "1  0  1  1  1\n",
       "2  1  0  1  0\n",
       "3  1  0  0  0"
      ]
     },
     "execution_count": 139,
     "metadata": {},
     "output_type": "execute_result"
    }
   ],
   "source": [
    "df>=60\n",
    "df[df>=60]\n",
    "np.array(df>=60)*1 # (df>=60).values*1\n",
    "pd.DataFrame(np.array(df>=60)*1, index = index, columns = columns)"
   ]
  },
  {
   "cell_type": "code",
   "execution_count": 140,
   "metadata": {},
   "outputs": [
    {
     "data": {
      "text/html": [
       "<div>\n",
       "<style scoped>\n",
       "    .dataframe tbody tr th:only-of-type {\n",
       "        vertical-align: middle;\n",
       "    }\n",
       "\n",
       "    .dataframe tbody tr th {\n",
       "        vertical-align: top;\n",
       "    }\n",
       "\n",
       "    .dataframe thead th {\n",
       "        text-align: right;\n",
       "    }\n",
       "</style>\n",
       "<table border=\"1\" class=\"dataframe\">\n",
       "  <thead>\n",
       "    <tr style=\"text-align: right;\">\n",
       "      <th></th>\n",
       "      <th>A</th>\n",
       "      <th>B</th>\n",
       "      <th>C</th>\n",
       "      <th>D</th>\n",
       "    </tr>\n",
       "  </thead>\n",
       "  <tbody>\n",
       "    <tr>\n",
       "      <th>1</th>\n",
       "      <td>52</td>\n",
       "      <td>71</td>\n",
       "      <td>72</td>\n",
       "      <td>80</td>\n",
       "    </tr>\n",
       "    <tr>\n",
       "      <th>2</th>\n",
       "      <td>72</td>\n",
       "      <td>53</td>\n",
       "      <td>71</td>\n",
       "      <td>46</td>\n",
       "    </tr>\n",
       "  </tbody>\n",
       "</table>\n",
       "</div>"
      ],
      "text/plain": [
       "    A   B   C   D\n",
       "1  52  71  72  80\n",
       "2  72  53  71  46"
      ]
     },
     "execution_count": 140,
     "metadata": {},
     "output_type": "execute_result"
    },
    {
     "data": {
      "text/html": [
       "<div>\n",
       "<style scoped>\n",
       "    .dataframe tbody tr th:only-of-type {\n",
       "        vertical-align: middle;\n",
       "    }\n",
       "\n",
       "    .dataframe tbody tr th {\n",
       "        vertical-align: top;\n",
       "    }\n",
       "\n",
       "    .dataframe thead th {\n",
       "        text-align: right;\n",
       "    }\n",
       "</style>\n",
       "<table border=\"1\" class=\"dataframe\">\n",
       "  <thead>\n",
       "    <tr style=\"text-align: right;\">\n",
       "      <th></th>\n",
       "      <th>A</th>\n",
       "      <th>B</th>\n",
       "      <th>C</th>\n",
       "      <th>D</th>\n",
       "    </tr>\n",
       "  </thead>\n",
       "  <tbody>\n",
       "    <tr>\n",
       "      <th>3</th>\n",
       "      <td>68</td>\n",
       "      <td>59</td>\n",
       "      <td>55</td>\n",
       "      <td>19</td>\n",
       "    </tr>\n",
       "  </tbody>\n",
       "</table>\n",
       "</div>"
      ],
      "text/plain": [
       "    A   B   C   D\n",
       "3  68  59  55  19"
      ]
     },
     "execution_count": 140,
     "metadata": {},
     "output_type": "execute_result"
    }
   ],
   "source": [
    "df[df['C']>60]\n",
    "df[(df['B']>50)&(df['C']<70)]"
   ]
  },
  {
   "cell_type": "code",
   "execution_count": 141,
   "metadata": {},
   "outputs": [
    {
     "data": {
      "text/html": [
       "<div>\n",
       "<style scoped>\n",
       "    .dataframe tbody tr th:only-of-type {\n",
       "        vertical-align: middle;\n",
       "    }\n",
       "\n",
       "    .dataframe tbody tr th {\n",
       "        vertical-align: top;\n",
       "    }\n",
       "\n",
       "    .dataframe thead th {\n",
       "        text-align: right;\n",
       "    }\n",
       "</style>\n",
       "<table border=\"1\" class=\"dataframe\">\n",
       "  <thead>\n",
       "    <tr style=\"text-align: right;\">\n",
       "      <th></th>\n",
       "      <th>A</th>\n",
       "      <th>B</th>\n",
       "      <th>C</th>\n",
       "      <th>D</th>\n",
       "      <th>E</th>\n",
       "    </tr>\n",
       "  </thead>\n",
       "  <tbody>\n",
       "    <tr>\n",
       "      <th>1</th>\n",
       "      <td>NaN</td>\n",
       "      <td>71.0</td>\n",
       "      <td>72.0</td>\n",
       "      <td>80.0</td>\n",
       "      <td>owl</td>\n",
       "    </tr>\n",
       "    <tr>\n",
       "      <th>2</th>\n",
       "      <td>72.0</td>\n",
       "      <td>NaN</td>\n",
       "      <td>71.0</td>\n",
       "      <td>NaN</td>\n",
       "      <td>fox</td>\n",
       "    </tr>\n",
       "    <tr>\n",
       "      <th>3</th>\n",
       "      <td>68.0</td>\n",
       "      <td>NaN</td>\n",
       "      <td>NaN</td>\n",
       "      <td>NaN</td>\n",
       "      <td>owl</td>\n",
       "    </tr>\n",
       "  </tbody>\n",
       "</table>\n",
       "</div>"
      ],
      "text/plain": [
       "      A     B     C     D    E\n",
       "1   NaN  71.0  72.0  80.0  owl\n",
       "2  72.0   NaN  71.0   NaN  fox\n",
       "3  68.0   NaN   NaN   NaN  owl"
      ]
     },
     "execution_count": 141,
     "metadata": {},
     "output_type": "execute_result"
    },
    {
     "data": {
      "text/plain": [
       "A    1\n",
       "B    2\n",
       "C    1\n",
       "D    2\n",
       "E    0\n",
       "dtype: int64"
      ]
     },
     "execution_count": 141,
     "metadata": {},
     "output_type": "execute_result"
    },
    {
     "data": {
      "text/plain": [
       "A    2\n",
       "B    1\n",
       "C    2\n",
       "D    1\n",
       "E    2\n",
       "dtype: int64"
      ]
     },
     "execution_count": 141,
     "metadata": {},
     "output_type": "execute_result"
    },
    {
     "data": {
      "text/plain": [
       "A    float64\n",
       "B    float64\n",
       "C    float64\n",
       "D    float64\n",
       "E     object\n",
       "dtype: object"
      ]
     },
     "execution_count": 141,
     "metadata": {},
     "output_type": "execute_result"
    }
   ],
   "source": [
    "df = df[df>60].copy()\n",
    "df['E'] = ['owl', 'fox', 'owl']\n",
    "df\n",
    "df.isnull().sum()\n",
    "df.nunique()\n",
    "df.dtypes"
   ]
  },
  {
   "cell_type": "code",
   "execution_count": 142,
   "metadata": {},
   "outputs": [
    {
     "data": {
      "text/plain": [
       "pandas.core.series.Series"
      ]
     },
     "execution_count": 142,
     "metadata": {},
     "output_type": "execute_result"
    },
    {
     "data": {
      "text/plain": [
       "(5,)"
      ]
     },
     "execution_count": 142,
     "metadata": {},
     "output_type": "execute_result"
    },
    {
     "data": {
      "text/plain": [
       "pandas.core.series.Series"
      ]
     },
     "execution_count": 142,
     "metadata": {},
     "output_type": "execute_result"
    },
    {
     "data": {
      "text/plain": [
       "(5,)"
      ]
     },
     "execution_count": 142,
     "metadata": {},
     "output_type": "execute_result"
    },
    {
     "data": {
      "text/plain": [
       "pandas.core.series.Series"
      ]
     },
     "execution_count": 142,
     "metadata": {},
     "output_type": "execute_result"
    },
    {
     "data": {
      "text/plain": [
       "(5,)"
      ]
     },
     "execution_count": 142,
     "metadata": {},
     "output_type": "execute_result"
    }
   ],
   "source": [
    "type(df.isnull().sum()); df.isnull().sum().shape\n",
    "type(df.nunique()); df.nunique().shape\n",
    "type(df.dtypes); df.dtypes.shape"
   ]
  },
  {
   "cell_type": "code",
   "execution_count": 143,
   "metadata": {},
   "outputs": [
    {
     "data": {
      "text/html": [
       "<div>\n",
       "<style scoped>\n",
       "    .dataframe tbody tr th:only-of-type {\n",
       "        vertical-align: middle;\n",
       "    }\n",
       "\n",
       "    .dataframe tbody tr th {\n",
       "        vertical-align: top;\n",
       "    }\n",
       "\n",
       "    .dataframe thead th {\n",
       "        text-align: right;\n",
       "    }\n",
       "</style>\n",
       "<table border=\"1\" class=\"dataframe\">\n",
       "  <thead>\n",
       "    <tr style=\"text-align: right;\">\n",
       "      <th></th>\n",
       "      <th>A</th>\n",
       "      <th>B</th>\n",
       "      <th>C</th>\n",
       "      <th>D</th>\n",
       "      <th>E</th>\n",
       "    </tr>\n",
       "  </thead>\n",
       "  <tbody>\n",
       "    <tr>\n",
       "      <th>1</th>\n",
       "      <td>0.0</td>\n",
       "      <td>71.0</td>\n",
       "      <td>72.0</td>\n",
       "      <td>80.0</td>\n",
       "      <td>owl</td>\n",
       "    </tr>\n",
       "    <tr>\n",
       "      <th>2</th>\n",
       "      <td>72.0</td>\n",
       "      <td>0.0</td>\n",
       "      <td>71.0</td>\n",
       "      <td>0.0</td>\n",
       "      <td>fox</td>\n",
       "    </tr>\n",
       "    <tr>\n",
       "      <th>3</th>\n",
       "      <td>68.0</td>\n",
       "      <td>0.0</td>\n",
       "      <td>0.0</td>\n",
       "      <td>0.0</td>\n",
       "      <td>owl</td>\n",
       "    </tr>\n",
       "  </tbody>\n",
       "</table>\n",
       "</div>"
      ],
      "text/plain": [
       "      A     B     C     D    E\n",
       "1   0.0  71.0  72.0  80.0  owl\n",
       "2  72.0   0.0  71.0   0.0  fox\n",
       "3  68.0   0.0   0.0   0.0  owl"
      ]
     },
     "execution_count": 143,
     "metadata": {},
     "output_type": "execute_result"
    },
    {
     "data": {
      "text/html": [
       "<div>\n",
       "<style scoped>\n",
       "    .dataframe tbody tr th:only-of-type {\n",
       "        vertical-align: middle;\n",
       "    }\n",
       "\n",
       "    .dataframe tbody tr th {\n",
       "        vertical-align: top;\n",
       "    }\n",
       "\n",
       "    .dataframe thead th {\n",
       "        text-align: right;\n",
       "    }\n",
       "</style>\n",
       "<table border=\"1\" class=\"dataframe\">\n",
       "  <thead>\n",
       "    <tr style=\"text-align: right;\">\n",
       "      <th></th>\n",
       "      <th>A</th>\n",
       "      <th>B</th>\n",
       "      <th>C</th>\n",
       "      <th>D</th>\n",
       "      <th>E</th>\n",
       "    </tr>\n",
       "  </thead>\n",
       "  <tbody>\n",
       "    <tr>\n",
       "      <th>1</th>\n",
       "      <td>0.0</td>\n",
       "      <td>71.0</td>\n",
       "      <td>72.0</td>\n",
       "      <td>80.0</td>\n",
       "      <td>owl</td>\n",
       "    </tr>\n",
       "    <tr>\n",
       "      <th>2</th>\n",
       "      <td>72.0</td>\n",
       "      <td>0.0</td>\n",
       "      <td>71.0</td>\n",
       "      <td>0.0</td>\n",
       "      <td>fox</td>\n",
       "    </tr>\n",
       "    <tr>\n",
       "      <th>3</th>\n",
       "      <td>68.0</td>\n",
       "      <td>0.0</td>\n",
       "      <td>0.0</td>\n",
       "      <td>0.0</td>\n",
       "      <td>owl</td>\n",
       "    </tr>\n",
       "  </tbody>\n",
       "</table>\n",
       "</div>"
      ],
      "text/plain": [
       "      A     B     C     D    E\n",
       "1   0.0  71.0  72.0  80.0  owl\n",
       "2  72.0   0.0  71.0   0.0  fox\n",
       "3  68.0   0.0   0.0   0.0  owl"
      ]
     },
     "execution_count": 143,
     "metadata": {},
     "output_type": "execute_result"
    }
   ],
   "source": [
    "df.fillna(0)\n",
    "df.fillna(0, inplace = True)  # df = df.fillna(0)\n",
    "df"
   ]
  },
  {
   "cell_type": "code",
   "execution_count": 144,
   "metadata": {},
   "outputs": [
    {
     "data": {
      "text/html": [
       "<div>\n",
       "<style scoped>\n",
       "    .dataframe tbody tr th:only-of-type {\n",
       "        vertical-align: middle;\n",
       "    }\n",
       "\n",
       "    .dataframe tbody tr th {\n",
       "        vertical-align: top;\n",
       "    }\n",
       "\n",
       "    .dataframe thead th {\n",
       "        text-align: right;\n",
       "    }\n",
       "</style>\n",
       "<table border=\"1\" class=\"dataframe\">\n",
       "  <thead>\n",
       "    <tr style=\"text-align: right;\">\n",
       "      <th></th>\n",
       "      <th>A</th>\n",
       "      <th>B</th>\n",
       "      <th>C</th>\n",
       "      <th>D</th>\n",
       "    </tr>\n",
       "  </thead>\n",
       "  <tbody>\n",
       "    <tr>\n",
       "      <th>a</th>\n",
       "      <td>52</td>\n",
       "      <td>71</td>\n",
       "      <td>72</td>\n",
       "      <td>80</td>\n",
       "    </tr>\n",
       "    <tr>\n",
       "      <th>b</th>\n",
       "      <td>72</td>\n",
       "      <td>53</td>\n",
       "      <td>71</td>\n",
       "      <td>46</td>\n",
       "    </tr>\n",
       "    <tr>\n",
       "      <th>c</th>\n",
       "      <td>68</td>\n",
       "      <td>59</td>\n",
       "      <td>55</td>\n",
       "      <td>19</td>\n",
       "    </tr>\n",
       "  </tbody>\n",
       "</table>\n",
       "</div>"
      ],
      "text/plain": [
       "    A   B   C   D\n",
       "a  52  71  72  80\n",
       "b  72  53  71  46\n",
       "c  68  59  55  19"
      ]
     },
     "execution_count": 144,
     "metadata": {},
     "output_type": "execute_result"
    },
    {
     "data": {
      "text/html": [
       "<div>\n",
       "<style scoped>\n",
       "    .dataframe tbody tr th:only-of-type {\n",
       "        vertical-align: middle;\n",
       "    }\n",
       "\n",
       "    .dataframe tbody tr th {\n",
       "        vertical-align: top;\n",
       "    }\n",
       "\n",
       "    .dataframe thead th {\n",
       "        text-align: right;\n",
       "    }\n",
       "</style>\n",
       "<table border=\"1\" class=\"dataframe\">\n",
       "  <thead>\n",
       "    <tr style=\"text-align: right;\">\n",
       "      <th></th>\n",
       "      <th>A</th>\n",
       "      <th>B</th>\n",
       "      <th>C</th>\n",
       "      <th>D</th>\n",
       "    </tr>\n",
       "  </thead>\n",
       "  <tbody>\n",
       "    <tr>\n",
       "      <th>a</th>\n",
       "      <td>52</td>\n",
       "      <td>71</td>\n",
       "      <td>72</td>\n",
       "      <td>80</td>\n",
       "    </tr>\n",
       "    <tr>\n",
       "      <th>b</th>\n",
       "      <td>72</td>\n",
       "      <td>53</td>\n",
       "      <td>71</td>\n",
       "      <td>46</td>\n",
       "    </tr>\n",
       "  </tbody>\n",
       "</table>\n",
       "</div>"
      ],
      "text/plain": [
       "    A   B   C   D\n",
       "a  52  71  72  80\n",
       "b  72  53  71  46"
      ]
     },
     "execution_count": 144,
     "metadata": {},
     "output_type": "execute_result"
    },
    {
     "data": {
      "text/html": [
       "<div>\n",
       "<style scoped>\n",
       "    .dataframe tbody tr th:only-of-type {\n",
       "        vertical-align: middle;\n",
       "    }\n",
       "\n",
       "    .dataframe tbody tr th {\n",
       "        vertical-align: top;\n",
       "    }\n",
       "\n",
       "    .dataframe thead th {\n",
       "        text-align: right;\n",
       "    }\n",
       "</style>\n",
       "<table border=\"1\" class=\"dataframe\">\n",
       "  <thead>\n",
       "    <tr style=\"text-align: right;\">\n",
       "      <th></th>\n",
       "      <th>A</th>\n",
       "      <th>B</th>\n",
       "      <th>C</th>\n",
       "      <th>D</th>\n",
       "    </tr>\n",
       "  </thead>\n",
       "  <tbody>\n",
       "    <tr>\n",
       "      <th>b</th>\n",
       "      <td>72</td>\n",
       "      <td>53</td>\n",
       "      <td>71</td>\n",
       "      <td>46</td>\n",
       "    </tr>\n",
       "  </tbody>\n",
       "</table>\n",
       "</div>"
      ],
      "text/plain": [
       "    A   B   C   D\n",
       "b  72  53  71  46"
      ]
     },
     "execution_count": 144,
     "metadata": {},
     "output_type": "execute_result"
    }
   ],
   "source": [
    "df = pd.DataFrame(mr, index = [i for i in 'abc'], columns = ['A','B','C','D'])\n",
    "df\n",
    "df.drop('c')\n",
    "df.drop(['a', 'c'])"
   ]
  },
  {
   "cell_type": "code",
   "execution_count": 145,
   "metadata": {},
   "outputs": [
    {
     "data": {
      "text/html": [
       "<div>\n",
       "<style scoped>\n",
       "    .dataframe tbody tr th:only-of-type {\n",
       "        vertical-align: middle;\n",
       "    }\n",
       "\n",
       "    .dataframe tbody tr th {\n",
       "        vertical-align: top;\n",
       "    }\n",
       "\n",
       "    .dataframe thead th {\n",
       "        text-align: right;\n",
       "    }\n",
       "</style>\n",
       "<table border=\"1\" class=\"dataframe\">\n",
       "  <thead>\n",
       "    <tr style=\"text-align: right;\">\n",
       "      <th></th>\n",
       "      <th>A</th>\n",
       "      <th>B</th>\n",
       "      <th>D</th>\n",
       "    </tr>\n",
       "  </thead>\n",
       "  <tbody>\n",
       "    <tr>\n",
       "      <th>a</th>\n",
       "      <td>52</td>\n",
       "      <td>71</td>\n",
       "      <td>80</td>\n",
       "    </tr>\n",
       "    <tr>\n",
       "      <th>b</th>\n",
       "      <td>72</td>\n",
       "      <td>53</td>\n",
       "      <td>46</td>\n",
       "    </tr>\n",
       "    <tr>\n",
       "      <th>c</th>\n",
       "      <td>68</td>\n",
       "      <td>59</td>\n",
       "      <td>19</td>\n",
       "    </tr>\n",
       "  </tbody>\n",
       "</table>\n",
       "</div>"
      ],
      "text/plain": [
       "    A   B   D\n",
       "a  52  71  80\n",
       "b  72  53  46\n",
       "c  68  59  19"
      ]
     },
     "execution_count": 145,
     "metadata": {},
     "output_type": "execute_result"
    },
    {
     "data": {
      "text/html": [
       "<div>\n",
       "<style scoped>\n",
       "    .dataframe tbody tr th:only-of-type {\n",
       "        vertical-align: middle;\n",
       "    }\n",
       "\n",
       "    .dataframe tbody tr th {\n",
       "        vertical-align: top;\n",
       "    }\n",
       "\n",
       "    .dataframe thead th {\n",
       "        text-align: right;\n",
       "    }\n",
       "</style>\n",
       "<table border=\"1\" class=\"dataframe\">\n",
       "  <thead>\n",
       "    <tr style=\"text-align: right;\">\n",
       "      <th></th>\n",
       "      <th>B</th>\n",
       "      <th>D</th>\n",
       "    </tr>\n",
       "  </thead>\n",
       "  <tbody>\n",
       "    <tr>\n",
       "      <th>a</th>\n",
       "      <td>71</td>\n",
       "      <td>80</td>\n",
       "    </tr>\n",
       "    <tr>\n",
       "      <th>b</th>\n",
       "      <td>53</td>\n",
       "      <td>46</td>\n",
       "    </tr>\n",
       "    <tr>\n",
       "      <th>c</th>\n",
       "      <td>59</td>\n",
       "      <td>19</td>\n",
       "    </tr>\n",
       "  </tbody>\n",
       "</table>\n",
       "</div>"
      ],
      "text/plain": [
       "    B   D\n",
       "a  71  80\n",
       "b  53  46\n",
       "c  59  19"
      ]
     },
     "execution_count": 145,
     "metadata": {},
     "output_type": "execute_result"
    }
   ],
   "source": [
    "df.drop('C', axis=1)\n",
    "df.drop(['A', 'C'], axis=1)"
   ]
  },
  {
   "cell_type": "code",
   "execution_count": 146,
   "metadata": {},
   "outputs": [
    {
     "data": {
      "text/html": [
       "<div>\n",
       "<style scoped>\n",
       "    .dataframe tbody tr th:only-of-type {\n",
       "        vertical-align: middle;\n",
       "    }\n",
       "\n",
       "    .dataframe tbody tr th {\n",
       "        vertical-align: top;\n",
       "    }\n",
       "\n",
       "    .dataframe thead th {\n",
       "        text-align: right;\n",
       "    }\n",
       "</style>\n",
       "<table border=\"1\" class=\"dataframe\">\n",
       "  <thead>\n",
       "    <tr style=\"text-align: right;\">\n",
       "      <th></th>\n",
       "      <th>A</th>\n",
       "      <th>B</th>\n",
       "      <th>C</th>\n",
       "      <th>D</th>\n",
       "    </tr>\n",
       "  </thead>\n",
       "  <tbody>\n",
       "    <tr>\n",
       "      <th>a</th>\n",
       "      <td>52</td>\n",
       "      <td>71</td>\n",
       "      <td>72</td>\n",
       "      <td>80</td>\n",
       "    </tr>\n",
       "    <tr>\n",
       "      <th>b</th>\n",
       "      <td>72</td>\n",
       "      <td>53</td>\n",
       "      <td>71</td>\n",
       "      <td>46</td>\n",
       "    </tr>\n",
       "    <tr>\n",
       "      <th>c</th>\n",
       "      <td>68</td>\n",
       "      <td>59</td>\n",
       "      <td>55</td>\n",
       "      <td>19</td>\n",
       "    </tr>\n",
       "    <tr>\n",
       "      <th>d</th>\n",
       "      <td>72</td>\n",
       "      <td>53</td>\n",
       "      <td>71</td>\n",
       "      <td>46</td>\n",
       "    </tr>\n",
       "  </tbody>\n",
       "</table>\n",
       "</div>"
      ],
      "text/plain": [
       "    A   B   C   D\n",
       "a  52  71  72  80\n",
       "b  72  53  71  46\n",
       "c  68  59  55  19\n",
       "d  72  53  71  46"
      ]
     },
     "execution_count": 146,
     "metadata": {},
     "output_type": "execute_result"
    },
    {
     "data": {
      "text/plain": [
       "a    False\n",
       "b    False\n",
       "c    False\n",
       "d     True\n",
       "dtype: bool"
      ]
     },
     "execution_count": 146,
     "metadata": {},
     "output_type": "execute_result"
    },
    {
     "data": {
      "text/html": [
       "<div>\n",
       "<style scoped>\n",
       "    .dataframe tbody tr th:only-of-type {\n",
       "        vertical-align: middle;\n",
       "    }\n",
       "\n",
       "    .dataframe tbody tr th {\n",
       "        vertical-align: top;\n",
       "    }\n",
       "\n",
       "    .dataframe thead th {\n",
       "        text-align: right;\n",
       "    }\n",
       "</style>\n",
       "<table border=\"1\" class=\"dataframe\">\n",
       "  <thead>\n",
       "    <tr style=\"text-align: right;\">\n",
       "      <th></th>\n",
       "      <th>A</th>\n",
       "      <th>B</th>\n",
       "      <th>C</th>\n",
       "      <th>D</th>\n",
       "    </tr>\n",
       "  </thead>\n",
       "  <tbody>\n",
       "    <tr>\n",
       "      <th>a</th>\n",
       "      <td>52</td>\n",
       "      <td>71</td>\n",
       "      <td>72</td>\n",
       "      <td>80</td>\n",
       "    </tr>\n",
       "    <tr>\n",
       "      <th>b</th>\n",
       "      <td>72</td>\n",
       "      <td>53</td>\n",
       "      <td>71</td>\n",
       "      <td>46</td>\n",
       "    </tr>\n",
       "    <tr>\n",
       "      <th>c</th>\n",
       "      <td>68</td>\n",
       "      <td>59</td>\n",
       "      <td>55</td>\n",
       "      <td>19</td>\n",
       "    </tr>\n",
       "  </tbody>\n",
       "</table>\n",
       "</div>"
      ],
      "text/plain": [
       "    A   B   C   D\n",
       "a  52  71  72  80\n",
       "b  72  53  71  46\n",
       "c  68  59  55  19"
      ]
     },
     "execution_count": 146,
     "metadata": {},
     "output_type": "execute_result"
    }
   ],
   "source": [
    "df.loc['d'] = df.loc['b']\n",
    "df\n",
    "df.duplicated()\n",
    "df[~df.duplicated()]"
   ]
  },
  {
   "cell_type": "code",
   "execution_count": 147,
   "metadata": {},
   "outputs": [
    {
     "name": "stdout",
     "output_type": "stream",
     "text": [
      "<class 'str'>\n",
      "<class 'int'>\n"
     ]
    }
   ],
   "source": [
    "print(type('hello'))\n",
    "print(type(sum([1,2,3])))"
   ]
  },
  {
   "cell_type": "code",
   "execution_count": 148,
   "metadata": {},
   "outputs": [
    {
     "name": "stdout",
     "output_type": "stream",
     "text": [
      "<class 'pandas.core.frame.DataFrame'>\n"
     ]
    },
    {
     "data": {
      "text/html": [
       "<div>\n",
       "<style scoped>\n",
       "    .dataframe tbody tr th:only-of-type {\n",
       "        vertical-align: middle;\n",
       "    }\n",
       "\n",
       "    .dataframe tbody tr th {\n",
       "        vertical-align: top;\n",
       "    }\n",
       "\n",
       "    .dataframe thead th {\n",
       "        text-align: right;\n",
       "    }\n",
       "</style>\n",
       "<table border=\"1\" class=\"dataframe\">\n",
       "  <thead>\n",
       "    <tr style=\"text-align: right;\">\n",
       "      <th></th>\n",
       "      <th>데이터형태(dtypes)</th>\n",
       "      <th>결측치 수(null)</th>\n",
       "      <th>고유값 수(nunique)</th>\n",
       "    </tr>\n",
       "  </thead>\n",
       "  <tbody>\n",
       "    <tr>\n",
       "      <th>A</th>\n",
       "      <td>int32</td>\n",
       "      <td>0</td>\n",
       "      <td>3</td>\n",
       "    </tr>\n",
       "    <tr>\n",
       "      <th>B</th>\n",
       "      <td>int32</td>\n",
       "      <td>0</td>\n",
       "      <td>3</td>\n",
       "    </tr>\n",
       "    <tr>\n",
       "      <th>C</th>\n",
       "      <td>int32</td>\n",
       "      <td>0</td>\n",
       "      <td>3</td>\n",
       "    </tr>\n",
       "    <tr>\n",
       "      <th>D</th>\n",
       "      <td>int32</td>\n",
       "      <td>0</td>\n",
       "      <td>3</td>\n",
       "    </tr>\n",
       "  </tbody>\n",
       "</table>\n",
       "</div>"
      ],
      "text/plain": [
       "  데이터형태(dtypes)  결측치 수(null)  고유값 수(nunique)\n",
       "A         int32            0               3\n",
       "B         int32            0               3\n",
       "C         int32            0               3\n",
       "D         int32            0               3"
      ]
     },
     "execution_count": 148,
     "metadata": {},
     "output_type": "execute_result"
    }
   ],
   "source": [
    "def summary(df) :\n",
    "    tf = pd.DataFrame({'데이터형태(dtypes)' : df.dtypes,\n",
    "                       '결측치 수(null)' : df.isnull().sum(),\n",
    "                       '고유값 수(nunique)' : df.nunique()})\n",
    "    return tf\n",
    "\n",
    "print(type(summary(df)))\n",
    "summary(df)"
   ]
  },
  {
   "cell_type": "code",
   "execution_count": 149,
   "metadata": {},
   "outputs": [
    {
     "name": "stdout",
     "output_type": "stream",
     "text": [
      "first normal arg: sanggoo\n",
      "another arg through *argv: python\n",
      "another arg through *argv: eggs\n",
      "another arg through *argv: apple\n"
     ]
    }
   ],
   "source": [
    "def test_var_args(f_arg, *argv):\n",
    "    print(\"first normal arg:\", f_arg)\n",
    "    for arg in argv:\n",
    "        print(\"another arg through *argv:\", arg)\n",
    "\n",
    "test_var_args('sanggoo', 'python', 'eggs', 'apple')"
   ]
  },
  {
   "cell_type": "code",
   "execution_count": 150,
   "metadata": {},
   "outputs": [
    {
     "name": "stdout",
     "output_type": "stream",
     "text": [
      "name = sanggoo\n",
      "fruit = apple\n"
     ]
    }
   ],
   "source": [
    "def greet_me(**kwargs):\n",
    "    for key, value in kwargs.items():\n",
    "        print(\"{0} = {1}\".format(key, value))\n",
    "        \n",
    "greet_me(name=\"sanggoo\", fruit =\"apple\")"
   ]
  },
  {
   "cell_type": "code",
   "execution_count": 151,
   "metadata": {},
   "outputs": [
    {
     "data": {
      "text/plain": [
       "80"
      ]
     },
     "execution_count": 151,
     "metadata": {},
     "output_type": "execute_result"
    }
   ],
   "source": [
    "def add(x, y, z=1) :\n",
    "    return (x + y + z)\n",
    "add(10, 20, z=50)"
   ]
  },
  {
   "cell_type": "code",
   "execution_count": 152,
   "metadata": {},
   "outputs": [],
   "source": [
    "def display(add, *arg, **kwargs) :\n",
    "    print(arg)\n",
    "    print(kwargs)\n",
    "    print(add)\n",
    "    \n",
    "    return add(*arg, **kwargs)"
   ]
  },
  {
   "cell_type": "code",
   "execution_count": 153,
   "metadata": {},
   "outputs": [
    {
     "name": "stdout",
     "output_type": "stream",
     "text": [
      "(10, 20)\n",
      "{'z': 50}\n",
      "<function add at 0x000001BE1BD4B048>\n"
     ]
    },
    {
     "data": {
      "text/plain": [
       "80"
      ]
     },
     "execution_count": 153,
     "metadata": {},
     "output_type": "execute_result"
    }
   ],
   "source": [
    "display(add, 10, 20, z=50)"
   ]
  },
  {
   "cell_type": "code",
   "execution_count": 154,
   "metadata": {},
   "outputs": [
    {
     "name": "stdout",
     "output_type": "stream",
     "text": [
      "<class 'float'>\n",
      "<class 'str'>\n"
     ]
    }
   ],
   "source": [
    "print(type(1.0))\n",
    "print(type('hello'))"
   ]
  },
  {
   "cell_type": "code",
   "execution_count": 155,
   "metadata": {},
   "outputs": [],
   "source": [
    "class Member:\n",
    "    def name():\n",
    "        print('모른다')\n",
    "        \n",
    "    def age():\n",
    "        print('알거없다')"
   ]
  },
  {
   "cell_type": "code",
   "execution_count": 156,
   "metadata": {},
   "outputs": [
    {
     "name": "stdout",
     "output_type": "stream",
     "text": [
      "<class '__main__.Member'>\n"
     ]
    }
   ],
   "source": [
    "m = Member()\n",
    "print(type(m))"
   ]
  },
  {
   "cell_type": "code",
   "execution_count": 157,
   "metadata": {},
   "outputs": [
    {
     "ename": "TypeError",
     "evalue": "name() takes 0 positional arguments but 1 was given",
     "output_type": "error",
     "traceback": [
      "\u001b[1;31m---------------------------------------------------------------------------\u001b[0m",
      "\u001b[1;31mTypeError\u001b[0m                                 Traceback (most recent call last)",
      "\u001b[1;32m<ipython-input-157-6c1a7752abd7>\u001b[0m in \u001b[0;36m<module>\u001b[1;34m\u001b[0m\n\u001b[1;32m----> 1\u001b[1;33m \u001b[0mm\u001b[0m\u001b[1;33m.\u001b[0m\u001b[0mname\u001b[0m\u001b[1;33m(\u001b[0m\u001b[1;33m)\u001b[0m\u001b[1;33m\u001b[0m\u001b[1;33m\u001b[0m\u001b[0m\n\u001b[0m",
      "\u001b[1;31mTypeError\u001b[0m: name() takes 0 positional arguments but 1 was given"
     ]
    }
   ],
   "source": [
    "m.name()"
   ]
  },
  {
   "cell_type": "code",
   "execution_count": 158,
   "metadata": {},
   "outputs": [],
   "source": [
    "class Member:\n",
    "    def name(a):\n",
    "        print('모른다')\n",
    "        \n",
    "    def age():\n",
    "        print('알거없다')"
   ]
  },
  {
   "cell_type": "code",
   "execution_count": 159,
   "metadata": {},
   "outputs": [
    {
     "name": "stdout",
     "output_type": "stream",
     "text": [
      "모른다\n"
     ]
    },
    {
     "ename": "AttributeError",
     "evalue": "'Member' object has no attribute 'grade'",
     "output_type": "error",
     "traceback": [
      "\u001b[1;31m---------------------------------------------------------------------------\u001b[0m",
      "\u001b[1;31mAttributeError\u001b[0m                            Traceback (most recent call last)",
      "\u001b[1;32m<ipython-input-159-ccc31341153c>\u001b[0m in \u001b[0;36m<module>\u001b[1;34m\u001b[0m\n\u001b[0;32m      1\u001b[0m \u001b[0mm\u001b[0m \u001b[1;33m=\u001b[0m \u001b[0mMember\u001b[0m\u001b[1;33m(\u001b[0m\u001b[1;33m)\u001b[0m\u001b[1;33m\u001b[0m\u001b[1;33m\u001b[0m\u001b[0m\n\u001b[0;32m      2\u001b[0m \u001b[0mm\u001b[0m\u001b[1;33m.\u001b[0m\u001b[0mname\u001b[0m\u001b[1;33m(\u001b[0m\u001b[1;33m)\u001b[0m\u001b[1;33m\u001b[0m\u001b[1;33m\u001b[0m\u001b[0m\n\u001b[1;32m----> 3\u001b[1;33m \u001b[0mm\u001b[0m\u001b[1;33m.\u001b[0m\u001b[0mgrade\u001b[0m\u001b[1;33m(\u001b[0m\u001b[1;33m)\u001b[0m\u001b[1;33m\u001b[0m\u001b[1;33m\u001b[0m\u001b[0m\n\u001b[0m",
      "\u001b[1;31mAttributeError\u001b[0m: 'Member' object has no attribute 'grade'"
     ]
    }
   ],
   "source": [
    "m = Member()\n",
    "m.name()\n",
    "m.grade()"
   ]
  },
  {
   "cell_type": "code",
   "execution_count": null,
   "metadata": {},
   "outputs": [],
   "source": [
    "class Member:\n",
    "    def __init__(self, name, age):\n",
    "        self.name = name\n",
    "        self.age = age    \n",
    "        \n",
    "    def get_name(self):\n",
    "        return self.name      \n",
    "    \n",
    "    def get_age(self):\n",
    "        return self.age\n",
    "    \n",
    "    def set_age(self, age):\n",
    "        self.age = age"
   ]
  },
  {
   "cell_type": "code",
   "execution_count": 160,
   "metadata": {},
   "outputs": [
    {
     "ename": "TypeError",
     "evalue": "Member() takes no arguments",
     "output_type": "error",
     "traceback": [
      "\u001b[1;31m---------------------------------------------------------------------------\u001b[0m",
      "\u001b[1;31mTypeError\u001b[0m                                 Traceback (most recent call last)",
      "\u001b[1;32m<ipython-input-160-c2f0a3c0ea95>\u001b[0m in \u001b[0;36m<module>\u001b[1;34m\u001b[0m\n\u001b[1;32m----> 1\u001b[1;33m \u001b[0mm\u001b[0m \u001b[1;33m=\u001b[0m \u001b[0mMember\u001b[0m\u001b[1;33m(\u001b[0m\u001b[1;34m'홍길동'\u001b[0m\u001b[1;33m,\u001b[0m \u001b[1;36m23\u001b[0m\u001b[1;33m)\u001b[0m\u001b[1;33m\u001b[0m\u001b[1;33m\u001b[0m\u001b[0m\n\u001b[0m\u001b[0;32m      2\u001b[0m \u001b[0mm\u001b[0m\u001b[1;33m.\u001b[0m\u001b[0mget_name\u001b[0m\u001b[1;33m(\u001b[0m\u001b[1;33m)\u001b[0m\u001b[1;33m\u001b[0m\u001b[1;33m\u001b[0m\u001b[0m\n\u001b[0;32m      3\u001b[0m \u001b[0mm\u001b[0m\u001b[1;33m.\u001b[0m\u001b[0mget_age\u001b[0m\u001b[1;33m(\u001b[0m\u001b[1;33m)\u001b[0m\u001b[1;33m\u001b[0m\u001b[1;33m\u001b[0m\u001b[0m\n",
      "\u001b[1;31mTypeError\u001b[0m: Member() takes no arguments"
     ]
    }
   ],
   "source": [
    "m = Member('홍길동', 23)\n",
    "m.get_name()\n",
    "m.get_age()"
   ]
  },
  {
   "cell_type": "code",
   "execution_count": 161,
   "metadata": {},
   "outputs": [
    {
     "ename": "AttributeError",
     "evalue": "'Member' object has no attribute 'set_age'",
     "output_type": "error",
     "traceback": [
      "\u001b[1;31m---------------------------------------------------------------------------\u001b[0m",
      "\u001b[1;31mAttributeError\u001b[0m                            Traceback (most recent call last)",
      "\u001b[1;32m<ipython-input-161-15b32d08243b>\u001b[0m in \u001b[0;36m<module>\u001b[1;34m\u001b[0m\n\u001b[1;32m----> 1\u001b[1;33m \u001b[0mm\u001b[0m\u001b[1;33m.\u001b[0m\u001b[0mset_age\u001b[0m\u001b[1;33m(\u001b[0m\u001b[1;36m33\u001b[0m\u001b[1;33m)\u001b[0m\u001b[1;33m\u001b[0m\u001b[1;33m\u001b[0m\u001b[0m\n\u001b[0m\u001b[0;32m      2\u001b[0m \u001b[0mm\u001b[0m\u001b[1;33m.\u001b[0m\u001b[0mname\u001b[0m\u001b[1;33m\u001b[0m\u001b[1;33m\u001b[0m\u001b[0m\n\u001b[0;32m      3\u001b[0m \u001b[0mm\u001b[0m\u001b[1;33m.\u001b[0m\u001b[0mage\u001b[0m\u001b[1;33m\u001b[0m\u001b[1;33m\u001b[0m\u001b[0m\n\u001b[0;32m      4\u001b[0m \u001b[0mm\u001b[0m\u001b[1;33m.\u001b[0m\u001b[0mget_age\u001b[0m\u001b[1;33m(\u001b[0m\u001b[1;33m)\u001b[0m\u001b[1;33m\u001b[0m\u001b[1;33m\u001b[0m\u001b[0m\n",
      "\u001b[1;31mAttributeError\u001b[0m: 'Member' object has no attribute 'set_age'"
     ]
    }
   ],
   "source": [
    "m.set_age(33)\n",
    "m.name\n",
    "m.age\n",
    "m.get_age()"
   ]
  },
  {
   "cell_type": "code",
   "execution_count": 162,
   "metadata": {},
   "outputs": [],
   "source": [
    "class Student:\n",
    "    def __init__(self, name, age, grade):\n",
    "        self.name = name\n",
    "        self.age = age\n",
    "        self.grade = grade\n",
    "        \n",
    "    def get_grade(self):\n",
    "        return self.grade \n",
    "\n",
    "    def show(self):\n",
    "        print(f'내 이름은 {self.name}, {self.age}살 이야.') \n",
    "\n",
    "class Course:\n",
    "    def __init__(self, name, max_students) :\n",
    "        self.name = name\n",
    "        self.max_students = max_students\n",
    "        self.students = []\n",
    "        self.is_active = False\n",
    "        \n",
    "    def add_student(self, student):\n",
    "        print(student)\n",
    "        if len(self.students) < self.max_students:\n",
    "            self.students.append(student)\n",
    "            return '수강신청 완료'\n",
    "        return '최대인원 초과로 수강신청 불가'\n",
    "    \n",
    "    def get_average_grade(self):\n",
    "        value = 0\n",
    "        for student in self.students:\n",
    "            value += student.get_grade()\n",
    "        return value/len(self.students)"
   ]
  },
  {
   "cell_type": "code",
   "execution_count": 163,
   "metadata": {},
   "outputs": [],
   "source": [
    "s1 = Student('Tim', 19, 95)\n",
    "s2 = Student('Bill', 19, 75)\n",
    "s3 = Student('Jill', 19, 65)"
   ]
  },
  {
   "cell_type": "code",
   "execution_count": 164,
   "metadata": {},
   "outputs": [
    {
     "data": {
      "text/plain": [
       "<__main__.Course at 0x1be1bd4c7c8>"
      ]
     },
     "execution_count": 164,
     "metadata": {},
     "output_type": "execute_result"
    },
    {
     "name": "stdout",
     "output_type": "stream",
     "text": [
      "<__main__.Student object at 0x000001BE1BD4AAC8>\n"
     ]
    },
    {
     "data": {
      "text/plain": [
       "'수강신청 완료'"
      ]
     },
     "execution_count": 164,
     "metadata": {},
     "output_type": "execute_result"
    },
    {
     "name": "stdout",
     "output_type": "stream",
     "text": [
      "<__main__.Student object at 0x000001BE1BD4A948>\n"
     ]
    },
    {
     "data": {
      "text/plain": [
       "'수강신청 완료'"
      ]
     },
     "execution_count": 164,
     "metadata": {},
     "output_type": "execute_result"
    }
   ],
   "source": [
    "course =Course('Science', 2)\n",
    "course\n",
    "course.add_student(s1)\n",
    "course.add_student(s2)"
   ]
  },
  {
   "cell_type": "code",
   "execution_count": 165,
   "metadata": {},
   "outputs": [
    {
     "name": "stdout",
     "output_type": "stream",
     "text": [
      "<class 'list'>\n"
     ]
    },
    {
     "data": {
      "text/plain": [
       "[<__main__.Student at 0x1be1bd4aac8>, <__main__.Student at 0x1be1bd4a948>]"
      ]
     },
     "execution_count": 165,
     "metadata": {},
     "output_type": "execute_result"
    },
    {
     "name": "stdout",
     "output_type": "stream",
     "text": [
      "<__main__.Student object at 0x000001BE1BD4AAC8>\n",
      "Tim\n"
     ]
    }
   ],
   "source": [
    "print(type(course.students))\n",
    "course.students\n",
    "print(course.students[0])\n",
    "print(course.students[0].name)"
   ]
  },
  {
   "cell_type": "code",
   "execution_count": 166,
   "metadata": {},
   "outputs": [
    {
     "name": "stdout",
     "output_type": "stream",
     "text": [
      "<__main__.Student object at 0x000001BE1BD4C3C8>\n"
     ]
    },
    {
     "data": {
      "text/plain": [
       "'최대인원 초과로 수강신청 불가'"
      ]
     },
     "execution_count": 166,
     "metadata": {},
     "output_type": "execute_result"
    },
    {
     "name": "stdout",
     "output_type": "stream",
     "text": [
      "85.0\n"
     ]
    }
   ],
   "source": [
    "course.add_student(s3)\n",
    "print(course.get_average_grade())"
   ]
  },
  {
   "cell_type": "code",
   "execution_count": 167,
   "metadata": {},
   "outputs": [],
   "source": [
    "class Female(Student):\n",
    "    def speak(self):\n",
    "        print('어머나 어머나')\n",
    "        \n",
    "class Male(Student):\n",
    "    def speak(self):\n",
    "        print('아이쿠 아이쿠')"
   ]
  },
  {
   "cell_type": "code",
   "execution_count": 168,
   "metadata": {},
   "outputs": [
    {
     "name": "stdout",
     "output_type": "stream",
     "text": [
      "내 이름은 Eve, 16살 이야.\n"
     ]
    },
    {
     "data": {
      "text/plain": [
       "<bound method Student.show of <__main__.Male object at 0x000001BE1BD09648>>"
      ]
     },
     "execution_count": 168,
     "metadata": {},
     "output_type": "execute_result"
    },
    {
     "name": "stdout",
     "output_type": "stream",
     "text": [
      "내 이름은 Adam, 18살 이야.\n"
     ]
    }
   ],
   "source": [
    "f = Female('Eve', 16, 75) \n",
    "f.show()\n",
    "m = Male('Adam', 18, 65)\n",
    "m.show\n",
    "m.show()"
   ]
  },
  {
   "cell_type": "code",
   "execution_count": 169,
   "metadata": {},
   "outputs": [
    {
     "name": "stdout",
     "output_type": "stream",
     "text": [
      "어머나 어머나\n",
      "아이쿠 아이쿠\n"
     ]
    }
   ],
   "source": [
    "f.speak()\n",
    "m.speak()"
   ]
  },
  {
   "cell_type": "code",
   "execution_count": 1,
   "metadata": {},
   "outputs": [
    {
     "data": {
      "text/plain": [
       "str"
      ]
     },
     "execution_count": 1,
     "metadata": {},
     "output_type": "execute_result"
    }
   ],
   "source": [
    "txt = '    필 땐 장미꽃처럼, 흩날릴 땐 벚꽃처럼, 질 땐 나팔꽃처럼'\n",
    "txt2 = '아름다운 그 순간처럼, 어짜피 이것 밖에 난 못해'\n",
    "txt3 = '너를 사랑하는 것 밖엔 못해'\n",
    "type(txt)"
   ]
  },
  {
   "cell_type": "code",
   "execution_count": 2,
   "metadata": {},
   "outputs": [
    {
     "data": {
      "text/plain": [
       "'    필 땐 장미꽃처럼, 흩날릴 땐 벚꽃처럼, 질 땐 나팔꽃처럼'"
      ]
     },
     "execution_count": 2,
     "metadata": {},
     "output_type": "execute_result"
    }
   ],
   "source": [
    "txt.split() \n",
    "type(txt.split())\n",
    "' '.join(txt.split(' '))"
   ]
  },
  {
   "cell_type": "code",
   "execution_count": 3,
   "metadata": {},
   "outputs": [
    {
     "data": {
      "text/plain": [
       "'필 땐 장미꽃처럼, 흩날릴 땐 벚꽃처럼, 질 땐 나팔꽃처럼'"
      ]
     },
     "execution_count": 3,
     "metadata": {},
     "output_type": "execute_result"
    }
   ],
   "source": [
    "txt.strip()"
   ]
  },
  {
   "cell_type": "code",
   "execution_count": 4,
   "metadata": {},
   "outputs": [
    {
     "data": {
      "text/plain": [
       "8"
      ]
     },
     "execution_count": 4,
     "metadata": {},
     "output_type": "execute_result"
    }
   ],
   "source": [
    "txt[0:10]\n",
    "txt.find('장미')"
   ]
  },
  {
   "cell_type": "code",
   "execution_count": 5,
   "metadata": {},
   "outputs": [
    {
     "data": {
      "text/plain": [
       "'    필 땐 해바라기꽃처럼, 흩날릴 땐 벚꽃처럼, 질 땐 나팔꽃처럼'"
      ]
     },
     "execution_count": 5,
     "metadata": {},
     "output_type": "execute_result"
    }
   ],
   "source": [
    "txt.replace('장미', '해바라기')"
   ]
  },
  {
   "cell_type": "code",
   "execution_count": 8,
   "metadata": {},
   "outputs": [
    {
     "data": {
      "text/html": [
       "<div>\n",
       "<style scoped>\n",
       "    .dataframe tbody tr th:only-of-type {\n",
       "        vertical-align: middle;\n",
       "    }\n",
       "\n",
       "    .dataframe tbody tr th {\n",
       "        vertical-align: top;\n",
       "    }\n",
       "\n",
       "    .dataframe thead th {\n",
       "        text-align: right;\n",
       "    }\n",
       "</style>\n",
       "<table border=\"1\" class=\"dataframe\">\n",
       "  <thead>\n",
       "    <tr style=\"text-align: right;\">\n",
       "      <th></th>\n",
       "      <th>0</th>\n",
       "    </tr>\n",
       "  </thead>\n",
       "  <tbody>\n",
       "    <tr>\n",
       "      <th>0</th>\n",
       "      <td>필 땐 장미꽃처럼, 흩날릴 땐 벚꽃처럼, 질 땐 나팔꽃처럼</td>\n",
       "    </tr>\n",
       "    <tr>\n",
       "      <th>1</th>\n",
       "      <td>아름다운 그 순간처럼, 어짜피 이것 밖에 난 못해</td>\n",
       "    </tr>\n",
       "    <tr>\n",
       "      <th>2</th>\n",
       "      <td>너를 사랑하는 것 밖엔 못해</td>\n",
       "    </tr>\n",
       "  </tbody>\n",
       "</table>\n",
       "</div>"
      ],
      "text/plain": [
       "                                      0\n",
       "0      필 땐 장미꽃처럼, 흩날릴 땐 벚꽃처럼, 질 땐 나팔꽃처럼\n",
       "1           아름다운 그 순간처럼, 어짜피 이것 밖에 난 못해\n",
       "2                       너를 사랑하는 것 밖엔 못해"
      ]
     },
     "execution_count": 8,
     "metadata": {},
     "output_type": "execute_result"
    }
   ],
   "source": [
    "doc = pd.Series([txt, txt2, txt3], dtype=\"string\")\n",
    "doc = doc.to_frame()\n",
    "doc"
   ]
  },
  {
   "cell_type": "code",
   "execution_count": 176,
   "metadata": {},
   "outputs": [
    {
     "data": {
      "text/plain": [
       "0     True\n",
       "1    False\n",
       "2    False\n",
       "Name: 0, dtype: boolean"
      ]
     },
     "execution_count": 176,
     "metadata": {},
     "output_type": "execute_result"
    }
   ],
   "source": [
    "doc[0].str.contains('장미')"
   ]
  },
  {
   "cell_type": "code",
   "execution_count": 177,
   "metadata": {},
   "outputs": [
    {
     "data": {
      "text/html": [
       "<div>\n",
       "<style scoped>\n",
       "    .dataframe tbody tr th:only-of-type {\n",
       "        vertical-align: middle;\n",
       "    }\n",
       "\n",
       "    .dataframe tbody tr th {\n",
       "        vertical-align: top;\n",
       "    }\n",
       "\n",
       "    .dataframe thead th {\n",
       "        text-align: right;\n",
       "    }\n",
       "</style>\n",
       "<table border=\"1\" class=\"dataframe\">\n",
       "  <thead>\n",
       "    <tr style=\"text-align: right;\">\n",
       "      <th></th>\n",
       "      <th>0</th>\n",
       "      <th>장미</th>\n",
       "      <th>벚꽃</th>\n",
       "      <th>사랑</th>\n",
       "    </tr>\n",
       "  </thead>\n",
       "  <tbody>\n",
       "    <tr>\n",
       "      <th>0</th>\n",
       "      <td>필 땐 장미꽃처럼, 흩날릴 땐 벚꽃처럼, 질 땐 나팔꽃처럼</td>\n",
       "      <td>1</td>\n",
       "      <td>1</td>\n",
       "      <td>0</td>\n",
       "    </tr>\n",
       "    <tr>\n",
       "      <th>1</th>\n",
       "      <td>아름다운 그 순간처럼, 어짜피 이것 밖에 난 못해</td>\n",
       "      <td>0</td>\n",
       "      <td>0</td>\n",
       "      <td>0</td>\n",
       "    </tr>\n",
       "    <tr>\n",
       "      <th>2</th>\n",
       "      <td>너를 사랑하는 것 밖엔 못해</td>\n",
       "      <td>0</td>\n",
       "      <td>0</td>\n",
       "      <td>1</td>\n",
       "    </tr>\n",
       "  </tbody>\n",
       "</table>\n",
       "</div>"
      ],
      "text/plain": [
       "                                      0  장미  벚꽃  사랑\n",
       "0      필 땐 장미꽃처럼, 흩날릴 땐 벚꽃처럼, 질 땐 나팔꽃처럼   1   1   0\n",
       "1           아름다운 그 순간처럼, 어짜피 이것 밖에 난 못해   0   0   0\n",
       "2                       너를 사랑하는 것 밖엔 못해   0   0   1"
      ]
     },
     "execution_count": 177,
     "metadata": {},
     "output_type": "execute_result"
    }
   ],
   "source": [
    "for choice in ['장미', '벚꽃', '사랑'] :\n",
    "    doc[choice] = doc[0].str.contains(choice).fillna(0).astype(int)\n",
    "doc"
   ]
  },
  {
   "cell_type": "code",
   "execution_count": 13,
   "metadata": {},
   "outputs": [
    {
     "data": {
      "text/html": [
       "<div>\n",
       "<style scoped>\n",
       "    .dataframe tbody tr th:only-of-type {\n",
       "        vertical-align: middle;\n",
       "    }\n",
       "\n",
       "    .dataframe tbody tr th {\n",
       "        vertical-align: top;\n",
       "    }\n",
       "\n",
       "    .dataframe thead th {\n",
       "        text-align: right;\n",
       "    }\n",
       "</style>\n",
       "<table border=\"1\" class=\"dataframe\">\n",
       "  <thead>\n",
       "    <tr style=\"text-align: right;\">\n",
       "      <th></th>\n",
       "      <th>0</th>\n",
       "      <th>1</th>\n",
       "      <th>2</th>\n",
       "    </tr>\n",
       "  </thead>\n",
       "  <tbody>\n",
       "    <tr>\n",
       "      <th>0</th>\n",
       "      <td>사과</td>\n",
       "      <td>토마토</td>\n",
       "      <td>사과</td>\n",
       "    </tr>\n",
       "    <tr>\n",
       "      <th>1</th>\n",
       "      <td>오렌지</td>\n",
       "      <td>수박</td>\n",
       "      <td>토마토</td>\n",
       "    </tr>\n",
       "    <tr>\n",
       "      <th>2</th>\n",
       "      <td>수박</td>\n",
       "      <td>토마토</td>\n",
       "      <td>사과</td>\n",
       "    </tr>\n",
       "  </tbody>\n",
       "</table>\n",
       "</div>"
      ],
      "text/plain": [
       "     0    1    2\n",
       "0   사과  토마토   사과\n",
       "1  오렌지   수박  토마토\n",
       "2   수박  토마토   사과"
      ]
     },
     "execution_count": 13,
     "metadata": {},
     "output_type": "execute_result"
    }
   ],
   "source": [
    "doc1= ['사과', '오렌지', '수박']\n",
    "doc2= ['토마토', '수박', '토마토']\n",
    "doc3= ['사과', '토마토', '사과',]\n",
    "df=pd.DataFrame(list(zip(doc1, doc2, doc3)))\n",
    "df"
   ]
  },
  {
   "cell_type": "code",
   "execution_count": 179,
   "metadata": {},
   "outputs": [
    {
     "data": {
      "text/plain": [
       "{'사과', '수박', '오렌지', '토마토'}"
      ]
     },
     "execution_count": 179,
     "metadata": {},
     "output_type": "execute_result"
    }
   ],
   "source": [
    "choices = set(df[0].values) | (set(df[1].values)) | (set(df[2].values))\n",
    "choices"
   ]
  },
  {
   "cell_type": "code",
   "execution_count": 180,
   "metadata": {},
   "outputs": [
    {
     "data": {
      "text/html": [
       "<div>\n",
       "<style scoped>\n",
       "    .dataframe tbody tr th:only-of-type {\n",
       "        vertical-align: middle;\n",
       "    }\n",
       "\n",
       "    .dataframe tbody tr th {\n",
       "        vertical-align: top;\n",
       "    }\n",
       "\n",
       "    .dataframe thead th {\n",
       "        text-align: right;\n",
       "    }\n",
       "</style>\n",
       "<table border=\"1\" class=\"dataframe\">\n",
       "  <thead>\n",
       "    <tr style=\"text-align: right;\">\n",
       "      <th></th>\n",
       "      <th>0</th>\n",
       "      <th>1</th>\n",
       "      <th>2</th>\n",
       "      <th>all</th>\n",
       "    </tr>\n",
       "  </thead>\n",
       "  <tbody>\n",
       "    <tr>\n",
       "      <th>0</th>\n",
       "      <td>사과</td>\n",
       "      <td>토마토</td>\n",
       "      <td>사과</td>\n",
       "      <td>사과,토마토,사과</td>\n",
       "    </tr>\n",
       "    <tr>\n",
       "      <th>1</th>\n",
       "      <td>오렌지</td>\n",
       "      <td>수박</td>\n",
       "      <td>토마토</td>\n",
       "      <td>오렌지,수박,토마토</td>\n",
       "    </tr>\n",
       "    <tr>\n",
       "      <th>2</th>\n",
       "      <td>수박</td>\n",
       "      <td>토마토</td>\n",
       "      <td>사과</td>\n",
       "      <td>수박,토마토,사과</td>\n",
       "    </tr>\n",
       "  </tbody>\n",
       "</table>\n",
       "</div>"
      ],
      "text/plain": [
       "     0    1    2         all\n",
       "0   사과  토마토   사과   사과,토마토,사과\n",
       "1  오렌지   수박  토마토  오렌지,수박,토마토\n",
       "2   수박  토마토   사과   수박,토마토,사과"
      ]
     },
     "execution_count": 180,
     "metadata": {},
     "output_type": "execute_result"
    }
   ],
   "source": [
    "df['all'] = df.apply(','.join, axis=1)\n",
    "df"
   ]
  },
  {
   "cell_type": "code",
   "execution_count": 181,
   "metadata": {},
   "outputs": [
    {
     "data": {
      "text/html": [
       "<div>\n",
       "<style scoped>\n",
       "    .dataframe tbody tr th:only-of-type {\n",
       "        vertical-align: middle;\n",
       "    }\n",
       "\n",
       "    .dataframe tbody tr th {\n",
       "        vertical-align: top;\n",
       "    }\n",
       "\n",
       "    .dataframe thead th {\n",
       "        text-align: right;\n",
       "    }\n",
       "</style>\n",
       "<table border=\"1\" class=\"dataframe\">\n",
       "  <thead>\n",
       "    <tr style=\"text-align: right;\">\n",
       "      <th></th>\n",
       "      <th>0</th>\n",
       "      <th>1</th>\n",
       "      <th>2</th>\n",
       "      <th>all</th>\n",
       "      <th>오렌지</th>\n",
       "      <th>토마토</th>\n",
       "      <th>사과</th>\n",
       "      <th>수박</th>\n",
       "    </tr>\n",
       "  </thead>\n",
       "  <tbody>\n",
       "    <tr>\n",
       "      <th>0</th>\n",
       "      <td>사과</td>\n",
       "      <td>토마토</td>\n",
       "      <td>사과</td>\n",
       "      <td>사과,토마토,사과</td>\n",
       "      <td>0</td>\n",
       "      <td>1</td>\n",
       "      <td>1</td>\n",
       "      <td>0</td>\n",
       "    </tr>\n",
       "    <tr>\n",
       "      <th>1</th>\n",
       "      <td>오렌지</td>\n",
       "      <td>수박</td>\n",
       "      <td>토마토</td>\n",
       "      <td>오렌지,수박,토마토</td>\n",
       "      <td>1</td>\n",
       "      <td>1</td>\n",
       "      <td>0</td>\n",
       "      <td>1</td>\n",
       "    </tr>\n",
       "    <tr>\n",
       "      <th>2</th>\n",
       "      <td>수박</td>\n",
       "      <td>토마토</td>\n",
       "      <td>사과</td>\n",
       "      <td>수박,토마토,사과</td>\n",
       "      <td>0</td>\n",
       "      <td>1</td>\n",
       "      <td>1</td>\n",
       "      <td>1</td>\n",
       "    </tr>\n",
       "  </tbody>\n",
       "</table>\n",
       "</div>"
      ],
      "text/plain": [
       "     0    1    2         all  오렌지  토마토  사과  수박\n",
       "0   사과  토마토   사과   사과,토마토,사과    0    1   1   0\n",
       "1  오렌지   수박  토마토  오렌지,수박,토마토    1    1   0   1\n",
       "2   수박  토마토   사과   수박,토마토,사과    0    1   1   1"
      ]
     },
     "execution_count": 181,
     "metadata": {},
     "output_type": "execute_result"
    }
   ],
   "source": [
    "for choice in choices :\n",
    "    df[choice] = df['all'].str.contains(choice)*1\n",
    "df"
   ]
  },
  {
   "cell_type": "code",
   "execution_count": 9,
   "metadata": {},
   "outputs": [
    {
     "data": {
      "text/html": [
       "<div>\n",
       "<style scoped>\n",
       "    .dataframe tbody tr th:only-of-type {\n",
       "        vertical-align: middle;\n",
       "    }\n",
       "\n",
       "    .dataframe tbody tr th {\n",
       "        vertical-align: top;\n",
       "    }\n",
       "\n",
       "    .dataframe thead th {\n",
       "        text-align: right;\n",
       "    }\n",
       "</style>\n",
       "<table border=\"1\" class=\"dataframe\">\n",
       "  <thead>\n",
       "    <tr style=\"text-align: right;\">\n",
       "      <th></th>\n",
       "      <th>0</th>\n",
       "    </tr>\n",
       "  </thead>\n",
       "  <tbody>\n",
       "    <tr>\n",
       "      <th>0</th>\n",
       "      <td>%    ?필 땐 /장미꽃:처럼!, 흩날릴\t 땐 !벚꽃처럼, $질 땐 나팔꽃처럼</td>\n",
       "    </tr>\n",
       "    <tr>\n",
       "      <th>1</th>\n",
       "      <td>!아름다운 ?그 &lt;순간처럼&gt;, !어짜피 %이것 밖에 난 못해</td>\n",
       "    </tr>\n",
       "    <tr>\n",
       "      <th>2</th>\n",
       "      <td>너를 %%사랑하는 것% 밖엔 못해</td>\n",
       "    </tr>\n",
       "  </tbody>\n",
       "</table>\n",
       "</div>"
      ],
      "text/plain": [
       "                                              0\n",
       "0  %    ?필 땐 /장미꽃:처럼!, 흩날릴\t 땐 !벚꽃처럼, $질 땐 나팔꽃처럼\n",
       "1             !아름다운 ?그 <순간처럼>, !어짜피 %이것 밖에 난 못해\n",
       "2                            너를 %%사랑하는 것% 밖엔 못해"
      ]
     },
     "execution_count": 9,
     "metadata": {},
     "output_type": "execute_result"
    }
   ],
   "source": [
    "txt = '%    ?필 땐 /장미꽃:처럼!, 흩날릴\\t 땐 !벚꽃처럼, $질 땐 나팔꽃처럼'\n",
    "txt2 = '!아름다운 ?그 <순간처럼>, !어짜피 %이것 밖에 난 못해'\n",
    "txt3 = '너를 %%사랑하는 것% 밖엔 못해'\n",
    "doc = pd.Series([txt, txt2, txt3], dtype=\"string\").to_frame()\n",
    "doc"
   ]
  },
  {
   "cell_type": "code",
   "execution_count": 10,
   "metadata": {},
   "outputs": [
    {
     "name": "stdout",
     "output_type": "stream",
     "text": [
      "['처럼', '처럼', '처럼']\n"
     ]
    }
   ],
   "source": [
    "import re\n",
    "p = re.compile('처럼')\n",
    "print(p.findall(txt))"
   ]
  },
  {
   "cell_type": "code",
   "execution_count": 11,
   "metadata": {},
   "outputs": [],
   "source": [
    "regex = ['[%]', '[?]', '[!]', '[/]', '[$]', '[>]', '[<]', '[:]', '\\t']\n",
    "def RegularClear(regex) :\n",
    "    for pattern in regex :\n",
    "        p = re.compile(pattern)\n",
    "        doc[0] = doc[0].apply(lambda x : re.sub(p, '', str(x)))\n",
    "    return doc[0]"
   ]
  },
  {
   "cell_type": "code",
   "execution_count": 12,
   "metadata": {},
   "outputs": [
    {
     "data": {
      "text/html": [
       "<div>\n",
       "<style scoped>\n",
       "    .dataframe tbody tr th:only-of-type {\n",
       "        vertical-align: middle;\n",
       "    }\n",
       "\n",
       "    .dataframe tbody tr th {\n",
       "        vertical-align: top;\n",
       "    }\n",
       "\n",
       "    .dataframe thead th {\n",
       "        text-align: right;\n",
       "    }\n",
       "</style>\n",
       "<table border=\"1\" class=\"dataframe\">\n",
       "  <thead>\n",
       "    <tr style=\"text-align: right;\">\n",
       "      <th></th>\n",
       "      <th>0</th>\n",
       "    </tr>\n",
       "  </thead>\n",
       "  <tbody>\n",
       "    <tr>\n",
       "      <th>0</th>\n",
       "      <td>필 땐 장미꽃처럼, 흩날릴 땐 벚꽃처럼, 질 땐 나팔꽃처럼</td>\n",
       "    </tr>\n",
       "    <tr>\n",
       "      <th>1</th>\n",
       "      <td>아름다운 그 순간처럼, 어짜피 이것 밖에 난 못해</td>\n",
       "    </tr>\n",
       "    <tr>\n",
       "      <th>2</th>\n",
       "      <td>너를 사랑하는 것 밖엔 못해</td>\n",
       "    </tr>\n",
       "  </tbody>\n",
       "</table>\n",
       "</div>"
      ],
      "text/plain": [
       "                                      0\n",
       "0      필 땐 장미꽃처럼, 흩날릴 땐 벚꽃처럼, 질 땐 나팔꽃처럼\n",
       "1           아름다운 그 순간처럼, 어짜피 이것 밖에 난 못해\n",
       "2                       너를 사랑하는 것 밖엔 못해"
      ]
     },
     "execution_count": 12,
     "metadata": {},
     "output_type": "execute_result"
    }
   ],
   "source": [
    "RegularClear(regex)\n",
    "doc"
   ]
  },
  {
   "cell_type": "code",
   "execution_count": 186,
   "metadata": {},
   "outputs": [
    {
     "data": {
      "text/plain": [
       "'C:\\\\Users\\\\NFSI291\\\\1A1A\\\\Book\\\\script'"
      ]
     },
     "execution_count": 186,
     "metadata": {},
     "output_type": "execute_result"
    },
    {
     "data": {
      "text/plain": [
       "['.ipynb_checkpoints', 'data', 'image', 'output', 'script']"
      ]
     },
     "execution_count": 186,
     "metadata": {},
     "output_type": "execute_result"
    },
    {
     "data": {
      "text/plain": [
       "['.ipynb_checkpoints',\n",
       " '2장 파이썬 프로그래밍.ipynb',\n",
       " '3장 데이터 결합 (pandas concate, merge).ipynb',\n",
       " '3장 데이터 현황분석.ipynb',\n",
       " '3장2절_3절_결측치처리_이상치처리.ipynb',\n",
       " '4장 데이터 전처리.ipynb',\n",
       " '5장 데이터 시각화.ipynb',\n",
       " '6장 특성변수.ipynb',\n",
       " '7장1절_2절 머신러닝 알고리즘과 모델.ipynb',\n",
       " '7장3절_5절 머신러닝 알고리즘과 모델.ipynb',\n",
       " '7장6절_7절 머신러닝 알고리즘과 모델.ipynb',\n",
       " '8장1절_2절 머신러닝 응용.ipynb',\n",
       " '8장3절 머신러닝 응용.ipynb',\n",
       " '8장4절 머신러닝 응용.ipynb',\n",
       " 'catboost_info',\n",
       " 'fluent_python_study.ipynb']"
      ]
     },
     "execution_count": 186,
     "metadata": {},
     "output_type": "execute_result"
    }
   ],
   "source": [
    "import os\n",
    "%pwd\n",
    "os.listdir('../') # 파일과 폴더 모두 보여줌\n",
    "os.listdir('./')"
   ]
  },
  {
   "cell_type": "code",
   "execution_count": 187,
   "metadata": {},
   "outputs": [
    {
     "data": {
      "text/plain": [
       "(['.ipynb_checkpoints', 'data', 'image', 'output', 'script'], [])"
      ]
     },
     "execution_count": 187,
     "metadata": {},
     "output_type": "execute_result"
    },
    {
     "data": {
      "text/plain": [
       "([],\n",
       " ['07_ensemble_learning_and_random_forests-checkpoint.ipynb',\n",
       "  '2-checkpoint.1 연산과 자료형태',\n",
       "  '2-checkpoint.2_Numpy와_Pandas',\n",
       "  '2장 파이썬 프로그래밍-checkpoint.ipynb',\n",
       "  '2장1절_연산과_자료형태-checkpoint.ipynb',\n",
       "  '2장1절_연산과자료형태-checkpoint.ipynb',\n",
       "  '2장2절_Numpy_pandas-checkpoint.ipynb',\n",
       "  '2장2절_Numpy와Pandas-checkpoint.ipynb',\n",
       "  '2장2절_Numpy와_Pandas-checkpoint.ipynb',\n",
       "  '2장3절_텍스트처리-checkpoint.ipynb',\n",
       "  '2장3절_함수와_클래스-checkpoint.ipynb',\n",
       "  '2장4절_데이터불러오기-checkpoint.ipynb',\n",
       "  '2장4절_텍스트처리-checkpoint.ipynb',\n",
       "  '2장5절_데이터불러오기-checkpoint.ipynb',\n",
       "  '2장_파이썬프로그래밍-checkpoint.ipynb',\n",
       "  '3장 데이터 현황분석-checkpoint.ipynb',\n",
       "  '3장1절_데이터분석-checkpoint.ipynb',\n",
       "  '3장2절_3절_결측치처리_이상치처리-checkpoint.ipynb',\n",
       "  '3장2절_결측치처리-checkpoint.ipynb',\n",
       "  '3장4절_파생변수-checkpoint.ipynb',\n",
       "  '3장5절_5_데이터결합-checkpoint.ipynb',\n",
       "  '3장5절_데이터전처리방법-checkpoint.ipynb',\n",
       "  '3장_데이터전처리-checkpoint.ipynb',\n",
       "  '4장 데이터 전처리-checkpoint.ipynb',\n",
       "  '4장1절_matplotlib와seaborn시각화-checkpoint.ipynb',\n",
       "  '4장2절_주성분석과시각화-checkpoint.ipynb',\n",
       "  '4장3절_지도시각화-checkpoint.ipynb',\n",
       "  '5장 데이터 시각화-checkpoint.ipynb',\n",
       "  '5장1절_특성변수와예측_5장2절_특성변수추출-checkpoint.ipynb',\n",
       "  '5장2절_Exhausitve_feature_extraction-checkpoint.ipynb',\n",
       "  '5장3절_예측모형적용-checkpoint.ipynb',\n",
       "  '5장3절_집_예측모형적용-checkpoint.ipynb',\n",
       "  '6장 특성변수-checkpoint.ipynb',\n",
       "  '6장1절_GNB-checkpoint.ipynb',\n",
       "  '6장1절_사이킷런분류기-checkpoint.ipynb',\n",
       "  '6장2절_GNB-checkpoint.ipynb',\n",
       "  '6장2절_Logistic-checkpoint.ipynb',\n",
       "  '6장3절_Logistic-checkpoint.ipynb',\n",
       "  '6장4절_Tree-checkpoint.ipynb',\n",
       "  '6장4절_Tree_Ensemble-checkpoint.ipynb',\n",
       "  '6장5절_svm-checkpoint.ipynb',\n",
       "  '6장6절_Neural-Network-checkpoint.ipynb',\n",
       "  '6장6절_모델선택과예측-checkpoint.ipynb',\n",
       "  '7_1_home-checkpoint.ipynb',\n",
       "  '7장1절_2절 머신러닝 알고리즘과 모델-checkpoint.ipynb',\n",
       "  '7장1절_study-checkpoint.ipynb',\n",
       "  '7장1절_모델개선-checkpoint.ipynb',\n",
       "  '7장1절_모델평가_개선-checkpoint.ipynb',\n",
       "  '7장1절_소비자불균형데이터예측-checkpoint.ipynb',\n",
       "  '7장2절_SMOTE-checkpoint.ipynb',\n",
       "  '7장2절_시카고외식업체단속예측-checkpoint.ipynb',\n",
       "  '7장3절_5절 머신러닝 알고리즘과 모델-checkpoint.ipynb',\n",
       "  '7장3절_시카고외식업체예측-checkpoint.ipynb',\n",
       "  '7장4절_기타예측-checkpoint.ipynb',\n",
       "  '7장4절_다양한예측사례-checkpoint.ipynb',\n",
       "  'alpha_error-checkpoint.ipynb',\n",
       "  'Chapter_3_1-checkpoint.ipynb',\n",
       "  'Chapter_3_2-checkpoint.ipynb',\n",
       "  'Chapter_4_1-3-checkpoint.ipynb',\n",
       "  'Chapter_4_4-checkpoint.ipynb',\n",
       "  'Chapter_5_1-checkpoint.ipynb',\n",
       "  'Chapter_5_3-checkpoint.ipynb',\n",
       "  'Chapter_6-checkpoint.ipynb',\n",
       "  'Chapter_7_2-checkpoint.ipynb',\n",
       "  'Chapter_7_3-checkpoint.ipynb',\n",
       "  'Chapter_7_4-checkpoint.ipynb',\n",
       "  'Chapter_7_5-checkpoint.ipynb',\n",
       "  'Chapter_7_6-checkpoint.ipynb',\n",
       "  'Chapter_7_7-checkpoint.ipynb',\n",
       "  'Chapter_7_8-checkpoint.ipynb',\n",
       "  'Chapter_8_1-checkpoint.ipynb',\n",
       "  'Chapter_8_2-checkpoint.ipynb',\n",
       "  'Chapter_8_3-checkpoint.ipynb',\n",
       "  'Chapter_8_4-checkpoint.ipynb',\n",
       "  'Chapte_8_2_other-checkpoint.ipynb',\n",
       "  'Chpter_5_2-checkpoint.ipynb',\n",
       "  'Exhaustive FeatureSelector-checkpoint.ipynb',\n",
       "  'fluent_python_code_study-checkpoint.ipynb',\n",
       "  'fluent_python_study-checkpoint.ipynb',\n",
       "  'gaussian_process-checkpoint.ipynb',\n",
       "  'GNB-checkpoint.ipynb',\n",
       "  'make_sample-checkpoint.ipynb',\n",
       "  'Numpy와Pandas-checkpoint.ipynb',\n",
       "  'predictions-checkpoint.ipynb',\n",
       "  'randomgrid_search_with_models-checkpoint.ipynb',\n",
       "  'regression-checkpoint.ipynb',\n",
       "  'scikit-learn_tricks-checkpoint.ipynb',\n",
       "  'september-checkpoint.ipynb',\n",
       "  'sklearn-35-best-tips-and-tricks-checkpoint.ipynb',\n",
       "  'study01_randomseed-checkpoint.ipynb',\n",
       "  'study02_type1error-checkpoint.ipynb',\n",
       "  'study03_PDP-SHAP-visualization-checkpoint.ipynb',\n",
       "  'study04_Exhaustive-feature-selector-checkpoint.ipynb',\n",
       "  'study05_sklearn-35-best-tips-and-tricks-checkpoint.ipynb',\n",
       "  'study06_metrics-checkpoint.ipynb',\n",
       "  'study07_classification-models-and-kfold-checkpoint.ipynb',\n",
       "  'study08_gini_entropy-checkpoint.ipynb',\n",
       "  'study_08_mglearn-checkpoint.ipynb',\n",
       "  'sweetviz-checkpoint.ipynb',\n",
       "  'test-checkpoint.ipynb',\n",
       "  'tutorial-catboost-overview-checkpoint.ipynb',\n",
       "  'Untitled-checkpoint.ipynb',\n",
       "  'Untitled1-checkpoint.ipynb',\n",
       "  'Untitled2-checkpoint.ipynb',\n",
       "  '강의-예측-checkpoint.ipynb',\n",
       "  '시카고-checkpoint.ipynb'])"
      ]
     },
     "execution_count": 187,
     "metadata": {},
     "output_type": "execute_result"
    },
    {
     "data": {
      "text/plain": [
       "([],\n",
       " ['2015년_자전거사고다발지.csv',\n",
       "  '2016년_자전거사고다발지.csv',\n",
       "  '2017년_자전거사고다발지.csv',\n",
       "  '3장자료.pkl',\n",
       "  '4장3절자료.pkl',\n",
       "  '4장자료.pkl',\n",
       "  '4장자료_01.pkl',\n",
       "  '4장자료_02.pkl',\n",
       "  'a.xlsx',\n",
       "  'chicago.pkl',\n",
       "  'fashion-mnist_test.csv',\n",
       "  'fashion-mnist_train.csv',\n",
       "  'food-inspections.csv',\n",
       "  'food-inspections.pkl',\n",
       "  'housing.csv',\n",
       "  'MCR2019.pkl',\n",
       "  'MCR2019.xlsx',\n",
       "  'skorea-provinces-2018-geo.json',\n",
       "  'X.pkl',\n",
       "  'y.pkl'])"
      ]
     },
     "execution_count": 187,
     "metadata": {},
     "output_type": "execute_result"
    },
    {
     "data": {
      "text/plain": [
       "([], [])"
      ]
     },
     "execution_count": 187,
     "metadata": {},
     "output_type": "execute_result"
    },
    {
     "data": {
      "text/plain": [
       "([],\n",
       " ['correlation_matrix.png',\n",
       "  'dt.joblib',\n",
       "  'feature.pkl',\n",
       "  'feature.xlsx',\n",
       "  'Feature_importance.png',\n",
       "  'gnb.joblib',\n",
       "  'Gradient Boosting.joblib',\n",
       "  'knn.joblib',\n",
       "  'lgr.joblib',\n",
       "  'positive_percent.png',\n",
       "  'Random Forest.joblib',\n",
       "  'smote_Decisiontree.joblib',\n",
       "  'smote_Extra Trees.joblib',\n",
       "  'smote_GNB.joblib',\n",
       "  'smote_Gradient Boosting.joblib',\n",
       "  'smote_KNN.joblib',\n",
       "  'smote_LGR.joblib',\n",
       "  'smote_Random Forest.joblib',\n",
       "  'smote_Ridge.joblib',\n",
       "  'smote_SVC.joblib',\n",
       "  'svc.joblib',\n",
       "  '강원도.html',\n",
       "  '경기도.html',\n",
       "  '경상남도.html',\n",
       "  '경상북도.html',\n",
       "  '광주광역시.html',\n",
       "  '대구광역시.html',\n",
       "  '대전광역시.html',\n",
       "  '부산광역시.html',\n",
       "  '서울특별시.html',\n",
       "  '시도.html',\n",
       "  '울산광역시.html',\n",
       "  '인천광역시.html',\n",
       "  '전국시도.html',\n",
       "  '전라남도.html',\n",
       "  '전라북도.html',\n",
       "  '제주특별자치도.html',\n",
       "  '충청남도.html',\n",
       "  '충청북도.html'])"
      ]
     },
     "execution_count": 187,
     "metadata": {},
     "output_type": "execute_result"
    },
    {
     "data": {
      "text/plain": [
       "(['.ipynb_checkpoints', 'catboost_info'],\n",
       " ['2장 파이썬 프로그래밍.ipynb',\n",
       "  '3장 데이터 결합 (pandas concate, merge).ipynb',\n",
       "  '3장 데이터 현황분석.ipynb',\n",
       "  '3장2절_3절_결측치처리_이상치처리.ipynb',\n",
       "  '4장 데이터 전처리.ipynb',\n",
       "  '5장 데이터 시각화.ipynb',\n",
       "  '6장 특성변수.ipynb',\n",
       "  '7장1절_2절 머신러닝 알고리즘과 모델.ipynb',\n",
       "  '7장3절_5절 머신러닝 알고리즘과 모델.ipynb',\n",
       "  '7장6절_7절 머신러닝 알고리즘과 모델.ipynb',\n",
       "  '8장1절_2절 머신러닝 응용.ipynb',\n",
       "  '8장3절 머신러닝 응용.ipynb',\n",
       "  '8장4절 머신러닝 응용.ipynb',\n",
       "  'fluent_python_study.ipynb'])"
      ]
     },
     "execution_count": 187,
     "metadata": {},
     "output_type": "execute_result"
    },
    {
     "data": {
      "text/plain": [
       "([],\n",
       " ['2장 파이썬 프로그래밍-checkpoint.ipynb',\n",
       "  '3장 데이터 결합 (pandas concate, merge)-checkpoint.ipynb',\n",
       "  '3장 데이터 현황분석-checkpoint.ipynb',\n",
       "  '3장2절_3절_결측치처리_이상치처리-checkpoint.ipynb',\n",
       "  '4장 데이터 전처리-checkpoint.ipynb',\n",
       "  '5장 데이터 시각화-checkpoint.ipynb',\n",
       "  '6장 특성변수-checkpoint.ipynb',\n",
       "  '7장1절_2절 머신러닝 알고리즘과 모델-checkpoint.ipynb',\n",
       "  '7장3절_5절 머신러닝 알고리즘과 모델-checkpoint.ipynb',\n",
       "  '7장6절_7절 머신러닝 알고리즘과 모델-checkpoint.ipynb',\n",
       "  '8장1절_2절 머신러닝 응용-checkpoint.ipynb',\n",
       "  '8장3절 머신러닝 응용-checkpoint.ipynb',\n",
       "  '8장4절 머신러닝 응용-checkpoint.ipynb',\n",
       "  'Chapter_8_1-checkpoint.ipynb',\n",
       "  'Chapter_8_2-checkpoint.ipynb',\n",
       "  'Chapter_8_4-checkpoint.ipynb',\n",
       "  'fluent_python_study-checkpoint.ipynb',\n",
       "  'Untitled1-checkpoint.ipynb'])"
      ]
     },
     "execution_count": 187,
     "metadata": {},
     "output_type": "execute_result"
    },
    {
     "data": {
      "text/plain": [
       "(['fold_0_learn',\n",
       "  'fold_0_test',\n",
       "  'fold_1_learn',\n",
       "  'fold_1_test',\n",
       "  'fold_2_learn',\n",
       "  'fold_2_test',\n",
       "  'fold_3_learn',\n",
       "  'fold_3_test',\n",
       "  'learn',\n",
       "  'test',\n",
       "  'tmp'],\n",
       " ['catboost_training.json',\n",
       "  'fold_0_learn_error.tsv',\n",
       "  'fold_0_test_error.tsv',\n",
       "  'fold_0_time_left.tsv',\n",
       "  'learn_error.tsv',\n",
       "  'test_error.tsv',\n",
       "  'time_left.tsv'])"
      ]
     },
     "execution_count": 187,
     "metadata": {},
     "output_type": "execute_result"
    },
    {
     "data": {
      "text/plain": [
       "([], ['events.out.tfevents'])"
      ]
     },
     "execution_count": 187,
     "metadata": {},
     "output_type": "execute_result"
    },
    {
     "data": {
      "text/plain": [
       "([], ['events.out.tfevents'])"
      ]
     },
     "execution_count": 187,
     "metadata": {},
     "output_type": "execute_result"
    },
    {
     "data": {
      "text/plain": [
       "([], ['events.out.tfevents'])"
      ]
     },
     "execution_count": 187,
     "metadata": {},
     "output_type": "execute_result"
    },
    {
     "data": {
      "text/plain": [
       "([], ['events.out.tfevents'])"
      ]
     },
     "execution_count": 187,
     "metadata": {},
     "output_type": "execute_result"
    },
    {
     "data": {
      "text/plain": [
       "([], ['events.out.tfevents'])"
      ]
     },
     "execution_count": 187,
     "metadata": {},
     "output_type": "execute_result"
    },
    {
     "data": {
      "text/plain": [
       "([], ['events.out.tfevents'])"
      ]
     },
     "execution_count": 187,
     "metadata": {},
     "output_type": "execute_result"
    },
    {
     "data": {
      "text/plain": [
       "([], ['events.out.tfevents'])"
      ]
     },
     "execution_count": 187,
     "metadata": {},
     "output_type": "execute_result"
    },
    {
     "data": {
      "text/plain": [
       "([], ['events.out.tfevents'])"
      ]
     },
     "execution_count": 187,
     "metadata": {},
     "output_type": "execute_result"
    },
    {
     "data": {
      "text/plain": [
       "([], ['events.out.tfevents'])"
      ]
     },
     "execution_count": 187,
     "metadata": {},
     "output_type": "execute_result"
    },
    {
     "data": {
      "text/plain": [
       "([], ['events.out.tfevents'])"
      ]
     },
     "execution_count": 187,
     "metadata": {},
     "output_type": "execute_result"
    },
    {
     "data": {
      "text/plain": [
       "([], [])"
      ]
     },
     "execution_count": 187,
     "metadata": {},
     "output_type": "execute_result"
    }
   ],
   "source": [
    "for (path, dir, files) in os.walk('../'):\n",
    "    (dir, files)"
   ]
  },
  {
   "cell_type": "code",
   "execution_count": 188,
   "metadata": {},
   "outputs": [],
   "source": [
    "os.makedirs('../data', exist_ok=True)\n",
    "os.makedirs('../output', exist_ok=True)\n",
    "os.makedirs('../image', exist_ok=True)"
   ]
  },
  {
   "cell_type": "code",
   "execution_count": 189,
   "metadata": {},
   "outputs": [
    {
     "data": {
      "text/plain": [
       "(['.ipynb_checkpoints', 'data', 'image', 'output', 'script'], [])"
      ]
     },
     "execution_count": 189,
     "metadata": {},
     "output_type": "execute_result"
    },
    {
     "data": {
      "text/plain": [
       "([],\n",
       " ['07_ensemble_learning_and_random_forests-checkpoint.ipynb',\n",
       "  '2-checkpoint.1 연산과 자료형태',\n",
       "  '2-checkpoint.2_Numpy와_Pandas',\n",
       "  '2장 파이썬 프로그래밍-checkpoint.ipynb',\n",
       "  '2장1절_연산과_자료형태-checkpoint.ipynb',\n",
       "  '2장1절_연산과자료형태-checkpoint.ipynb',\n",
       "  '2장2절_Numpy_pandas-checkpoint.ipynb',\n",
       "  '2장2절_Numpy와Pandas-checkpoint.ipynb',\n",
       "  '2장2절_Numpy와_Pandas-checkpoint.ipynb',\n",
       "  '2장3절_텍스트처리-checkpoint.ipynb',\n",
       "  '2장3절_함수와_클래스-checkpoint.ipynb',\n",
       "  '2장4절_데이터불러오기-checkpoint.ipynb',\n",
       "  '2장4절_텍스트처리-checkpoint.ipynb',\n",
       "  '2장5절_데이터불러오기-checkpoint.ipynb',\n",
       "  '2장_파이썬프로그래밍-checkpoint.ipynb',\n",
       "  '3장 데이터 현황분석-checkpoint.ipynb',\n",
       "  '3장1절_데이터분석-checkpoint.ipynb',\n",
       "  '3장2절_3절_결측치처리_이상치처리-checkpoint.ipynb',\n",
       "  '3장2절_결측치처리-checkpoint.ipynb',\n",
       "  '3장4절_파생변수-checkpoint.ipynb',\n",
       "  '3장5절_5_데이터결합-checkpoint.ipynb',\n",
       "  '3장5절_데이터전처리방법-checkpoint.ipynb',\n",
       "  '3장_데이터전처리-checkpoint.ipynb',\n",
       "  '4장 데이터 전처리-checkpoint.ipynb',\n",
       "  '4장1절_matplotlib와seaborn시각화-checkpoint.ipynb',\n",
       "  '4장2절_주성분석과시각화-checkpoint.ipynb',\n",
       "  '4장3절_지도시각화-checkpoint.ipynb',\n",
       "  '5장 데이터 시각화-checkpoint.ipynb',\n",
       "  '5장1절_특성변수와예측_5장2절_특성변수추출-checkpoint.ipynb',\n",
       "  '5장2절_Exhausitve_feature_extraction-checkpoint.ipynb',\n",
       "  '5장3절_예측모형적용-checkpoint.ipynb',\n",
       "  '5장3절_집_예측모형적용-checkpoint.ipynb',\n",
       "  '6장 특성변수-checkpoint.ipynb',\n",
       "  '6장1절_GNB-checkpoint.ipynb',\n",
       "  '6장1절_사이킷런분류기-checkpoint.ipynb',\n",
       "  '6장2절_GNB-checkpoint.ipynb',\n",
       "  '6장2절_Logistic-checkpoint.ipynb',\n",
       "  '6장3절_Logistic-checkpoint.ipynb',\n",
       "  '6장4절_Tree-checkpoint.ipynb',\n",
       "  '6장4절_Tree_Ensemble-checkpoint.ipynb',\n",
       "  '6장5절_svm-checkpoint.ipynb',\n",
       "  '6장6절_Neural-Network-checkpoint.ipynb',\n",
       "  '6장6절_모델선택과예측-checkpoint.ipynb',\n",
       "  '7_1_home-checkpoint.ipynb',\n",
       "  '7장1절_2절 머신러닝 알고리즘과 모델-checkpoint.ipynb',\n",
       "  '7장1절_study-checkpoint.ipynb',\n",
       "  '7장1절_모델개선-checkpoint.ipynb',\n",
       "  '7장1절_모델평가_개선-checkpoint.ipynb',\n",
       "  '7장1절_소비자불균형데이터예측-checkpoint.ipynb',\n",
       "  '7장2절_SMOTE-checkpoint.ipynb',\n",
       "  '7장2절_시카고외식업체단속예측-checkpoint.ipynb',\n",
       "  '7장3절_5절 머신러닝 알고리즘과 모델-checkpoint.ipynb',\n",
       "  '7장3절_시카고외식업체예측-checkpoint.ipynb',\n",
       "  '7장4절_기타예측-checkpoint.ipynb',\n",
       "  '7장4절_다양한예측사례-checkpoint.ipynb',\n",
       "  'alpha_error-checkpoint.ipynb',\n",
       "  'Chapter_3_1-checkpoint.ipynb',\n",
       "  'Chapter_3_2-checkpoint.ipynb',\n",
       "  'Chapter_4_1-3-checkpoint.ipynb',\n",
       "  'Chapter_4_4-checkpoint.ipynb',\n",
       "  'Chapter_5_1-checkpoint.ipynb',\n",
       "  'Chapter_5_3-checkpoint.ipynb',\n",
       "  'Chapter_6-checkpoint.ipynb',\n",
       "  'Chapter_7_2-checkpoint.ipynb',\n",
       "  'Chapter_7_3-checkpoint.ipynb',\n",
       "  'Chapter_7_4-checkpoint.ipynb',\n",
       "  'Chapter_7_5-checkpoint.ipynb',\n",
       "  'Chapter_7_6-checkpoint.ipynb',\n",
       "  'Chapter_7_7-checkpoint.ipynb',\n",
       "  'Chapter_7_8-checkpoint.ipynb',\n",
       "  'Chapter_8_1-checkpoint.ipynb',\n",
       "  'Chapter_8_2-checkpoint.ipynb',\n",
       "  'Chapter_8_3-checkpoint.ipynb',\n",
       "  'Chapter_8_4-checkpoint.ipynb',\n",
       "  'Chapte_8_2_other-checkpoint.ipynb',\n",
       "  'Chpter_5_2-checkpoint.ipynb',\n",
       "  'Exhaustive FeatureSelector-checkpoint.ipynb',\n",
       "  'fluent_python_code_study-checkpoint.ipynb',\n",
       "  'fluent_python_study-checkpoint.ipynb',\n",
       "  'gaussian_process-checkpoint.ipynb',\n",
       "  'GNB-checkpoint.ipynb',\n",
       "  'make_sample-checkpoint.ipynb',\n",
       "  'Numpy와Pandas-checkpoint.ipynb',\n",
       "  'predictions-checkpoint.ipynb',\n",
       "  'randomgrid_search_with_models-checkpoint.ipynb',\n",
       "  'regression-checkpoint.ipynb',\n",
       "  'scikit-learn_tricks-checkpoint.ipynb',\n",
       "  'september-checkpoint.ipynb',\n",
       "  'sklearn-35-best-tips-and-tricks-checkpoint.ipynb',\n",
       "  'study01_randomseed-checkpoint.ipynb',\n",
       "  'study02_type1error-checkpoint.ipynb',\n",
       "  'study03_PDP-SHAP-visualization-checkpoint.ipynb',\n",
       "  'study04_Exhaustive-feature-selector-checkpoint.ipynb',\n",
       "  'study05_sklearn-35-best-tips-and-tricks-checkpoint.ipynb',\n",
       "  'study06_metrics-checkpoint.ipynb',\n",
       "  'study07_classification-models-and-kfold-checkpoint.ipynb',\n",
       "  'study08_gini_entropy-checkpoint.ipynb',\n",
       "  'study_08_mglearn-checkpoint.ipynb',\n",
       "  'sweetviz-checkpoint.ipynb',\n",
       "  'test-checkpoint.ipynb',\n",
       "  'tutorial-catboost-overview-checkpoint.ipynb',\n",
       "  'Untitled-checkpoint.ipynb',\n",
       "  'Untitled1-checkpoint.ipynb',\n",
       "  'Untitled2-checkpoint.ipynb',\n",
       "  '강의-예측-checkpoint.ipynb',\n",
       "  '시카고-checkpoint.ipynb'])"
      ]
     },
     "execution_count": 189,
     "metadata": {},
     "output_type": "execute_result"
    },
    {
     "data": {
      "text/plain": [
       "([],\n",
       " ['2015년_자전거사고다발지.csv',\n",
       "  '2016년_자전거사고다발지.csv',\n",
       "  '2017년_자전거사고다발지.csv',\n",
       "  '3장자료.pkl',\n",
       "  '4장3절자료.pkl',\n",
       "  '4장자료.pkl',\n",
       "  '4장자료_01.pkl',\n",
       "  '4장자료_02.pkl',\n",
       "  'a.xlsx',\n",
       "  'chicago.pkl',\n",
       "  'fashion-mnist_test.csv',\n",
       "  'fashion-mnist_train.csv',\n",
       "  'food-inspections.csv',\n",
       "  'food-inspections.pkl',\n",
       "  'housing.csv',\n",
       "  'MCR2019.pkl',\n",
       "  'MCR2019.xlsx',\n",
       "  'skorea-provinces-2018-geo.json',\n",
       "  'X.pkl',\n",
       "  'y.pkl'])"
      ]
     },
     "execution_count": 189,
     "metadata": {},
     "output_type": "execute_result"
    },
    {
     "data": {
      "text/plain": [
       "([], [])"
      ]
     },
     "execution_count": 189,
     "metadata": {},
     "output_type": "execute_result"
    },
    {
     "data": {
      "text/plain": [
       "([],\n",
       " ['correlation_matrix.png',\n",
       "  'dt.joblib',\n",
       "  'feature.pkl',\n",
       "  'feature.xlsx',\n",
       "  'Feature_importance.png',\n",
       "  'gnb.joblib',\n",
       "  'Gradient Boosting.joblib',\n",
       "  'knn.joblib',\n",
       "  'lgr.joblib',\n",
       "  'positive_percent.png',\n",
       "  'Random Forest.joblib',\n",
       "  'smote_Decisiontree.joblib',\n",
       "  'smote_Extra Trees.joblib',\n",
       "  'smote_GNB.joblib',\n",
       "  'smote_Gradient Boosting.joblib',\n",
       "  'smote_KNN.joblib',\n",
       "  'smote_LGR.joblib',\n",
       "  'smote_Random Forest.joblib',\n",
       "  'smote_Ridge.joblib',\n",
       "  'smote_SVC.joblib',\n",
       "  'svc.joblib',\n",
       "  '강원도.html',\n",
       "  '경기도.html',\n",
       "  '경상남도.html',\n",
       "  '경상북도.html',\n",
       "  '광주광역시.html',\n",
       "  '대구광역시.html',\n",
       "  '대전광역시.html',\n",
       "  '부산광역시.html',\n",
       "  '서울특별시.html',\n",
       "  '시도.html',\n",
       "  '울산광역시.html',\n",
       "  '인천광역시.html',\n",
       "  '전국시도.html',\n",
       "  '전라남도.html',\n",
       "  '전라북도.html',\n",
       "  '제주특별자치도.html',\n",
       "  '충청남도.html',\n",
       "  '충청북도.html'])"
      ]
     },
     "execution_count": 189,
     "metadata": {},
     "output_type": "execute_result"
    },
    {
     "data": {
      "text/plain": [
       "(['.ipynb_checkpoints', 'catboost_info'],\n",
       " ['2장 파이썬 프로그래밍.ipynb',\n",
       "  '3장 데이터 결합 (pandas concate, merge).ipynb',\n",
       "  '3장 데이터 현황분석.ipynb',\n",
       "  '3장2절_3절_결측치처리_이상치처리.ipynb',\n",
       "  '4장 데이터 전처리.ipynb',\n",
       "  '5장 데이터 시각화.ipynb',\n",
       "  '6장 특성변수.ipynb',\n",
       "  '7장1절_2절 머신러닝 알고리즘과 모델.ipynb',\n",
       "  '7장3절_5절 머신러닝 알고리즘과 모델.ipynb',\n",
       "  '7장6절_7절 머신러닝 알고리즘과 모델.ipynb',\n",
       "  '8장1절_2절 머신러닝 응용.ipynb',\n",
       "  '8장3절 머신러닝 응용.ipynb',\n",
       "  '8장4절 머신러닝 응용.ipynb',\n",
       "  'fluent_python_study.ipynb'])"
      ]
     },
     "execution_count": 189,
     "metadata": {},
     "output_type": "execute_result"
    },
    {
     "data": {
      "text/plain": [
       "([],\n",
       " ['2장 파이썬 프로그래밍-checkpoint.ipynb',\n",
       "  '3장 데이터 결합 (pandas concate, merge)-checkpoint.ipynb',\n",
       "  '3장 데이터 현황분석-checkpoint.ipynb',\n",
       "  '3장2절_3절_결측치처리_이상치처리-checkpoint.ipynb',\n",
       "  '4장 데이터 전처리-checkpoint.ipynb',\n",
       "  '5장 데이터 시각화-checkpoint.ipynb',\n",
       "  '6장 특성변수-checkpoint.ipynb',\n",
       "  '7장1절_2절 머신러닝 알고리즘과 모델-checkpoint.ipynb',\n",
       "  '7장3절_5절 머신러닝 알고리즘과 모델-checkpoint.ipynb',\n",
       "  '7장6절_7절 머신러닝 알고리즘과 모델-checkpoint.ipynb',\n",
       "  '8장1절_2절 머신러닝 응용-checkpoint.ipynb',\n",
       "  '8장3절 머신러닝 응용-checkpoint.ipynb',\n",
       "  '8장4절 머신러닝 응용-checkpoint.ipynb',\n",
       "  'Chapter_8_1-checkpoint.ipynb',\n",
       "  'Chapter_8_2-checkpoint.ipynb',\n",
       "  'Chapter_8_4-checkpoint.ipynb',\n",
       "  'fluent_python_study-checkpoint.ipynb',\n",
       "  'Untitled1-checkpoint.ipynb'])"
      ]
     },
     "execution_count": 189,
     "metadata": {},
     "output_type": "execute_result"
    },
    {
     "data": {
      "text/plain": [
       "(['fold_0_learn',\n",
       "  'fold_0_test',\n",
       "  'fold_1_learn',\n",
       "  'fold_1_test',\n",
       "  'fold_2_learn',\n",
       "  'fold_2_test',\n",
       "  'fold_3_learn',\n",
       "  'fold_3_test',\n",
       "  'learn',\n",
       "  'test',\n",
       "  'tmp'],\n",
       " ['catboost_training.json',\n",
       "  'fold_0_learn_error.tsv',\n",
       "  'fold_0_test_error.tsv',\n",
       "  'fold_0_time_left.tsv',\n",
       "  'learn_error.tsv',\n",
       "  'test_error.tsv',\n",
       "  'time_left.tsv'])"
      ]
     },
     "execution_count": 189,
     "metadata": {},
     "output_type": "execute_result"
    },
    {
     "data": {
      "text/plain": [
       "([], ['events.out.tfevents'])"
      ]
     },
     "execution_count": 189,
     "metadata": {},
     "output_type": "execute_result"
    },
    {
     "data": {
      "text/plain": [
       "([], ['events.out.tfevents'])"
      ]
     },
     "execution_count": 189,
     "metadata": {},
     "output_type": "execute_result"
    },
    {
     "data": {
      "text/plain": [
       "([], ['events.out.tfevents'])"
      ]
     },
     "execution_count": 189,
     "metadata": {},
     "output_type": "execute_result"
    },
    {
     "data": {
      "text/plain": [
       "([], ['events.out.tfevents'])"
      ]
     },
     "execution_count": 189,
     "metadata": {},
     "output_type": "execute_result"
    },
    {
     "data": {
      "text/plain": [
       "([], ['events.out.tfevents'])"
      ]
     },
     "execution_count": 189,
     "metadata": {},
     "output_type": "execute_result"
    },
    {
     "data": {
      "text/plain": [
       "([], ['events.out.tfevents'])"
      ]
     },
     "execution_count": 189,
     "metadata": {},
     "output_type": "execute_result"
    },
    {
     "data": {
      "text/plain": [
       "([], ['events.out.tfevents'])"
      ]
     },
     "execution_count": 189,
     "metadata": {},
     "output_type": "execute_result"
    },
    {
     "data": {
      "text/plain": [
       "([], ['events.out.tfevents'])"
      ]
     },
     "execution_count": 189,
     "metadata": {},
     "output_type": "execute_result"
    },
    {
     "data": {
      "text/plain": [
       "([], ['events.out.tfevents'])"
      ]
     },
     "execution_count": 189,
     "metadata": {},
     "output_type": "execute_result"
    },
    {
     "data": {
      "text/plain": [
       "([], ['events.out.tfevents'])"
      ]
     },
     "execution_count": 189,
     "metadata": {},
     "output_type": "execute_result"
    },
    {
     "data": {
      "text/plain": [
       "([], [])"
      ]
     },
     "execution_count": 189,
     "metadata": {},
     "output_type": "execute_result"
    }
   ],
   "source": [
    "for (path, dir, files) in os.walk('../'):\n",
    "    (dir, files)"
   ]
  },
  {
   "cell_type": "code",
   "execution_count": null,
   "metadata": {},
   "outputs": [],
   "source": []
  },
  {
   "cell_type": "code",
   "execution_count": null,
   "metadata": {},
   "outputs": [],
   "source": []
  }
 ],
 "metadata": {
  "kernelspec": {
   "display_name": "Python 3",
   "language": "python",
   "name": "python3"
  },
  "language_info": {
   "codemirror_mode": {
    "name": "ipython",
    "version": 3
   },
   "file_extension": ".py",
   "mimetype": "text/x-python",
   "name": "python",
   "nbconvert_exporter": "python",
   "pygments_lexer": "ipython3",
   "version": "3.8.3"
  }
 },
 "nbformat": 4,
 "nbformat_minor": 2
}
